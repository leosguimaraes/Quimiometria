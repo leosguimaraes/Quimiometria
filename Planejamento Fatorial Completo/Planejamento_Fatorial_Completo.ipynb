{
  "nbformat": 4,
  "nbformat_minor": 0,
  "metadata": {
    "colab": {
      "provenance": []
    },
    "kernelspec": {
      "name": "python3",
      "display_name": "Python 3"
    },
    "language_info": {
      "name": "python"
    }
  },
  "cells": [
    {
      "cell_type": "markdown",
      "source": [
        "# Planejamento Fatorial Completo\n",
        "\n",
        "Este planejamento experimental destina-se a avaliar os efeitos e as interações entre variáveis que possam contribuir ou não para o experimento, de forma a encontrar a melhor condição experimental que maximize a variável resposta.\n",
        "\n",
        "O experimento consiste na oxidação eletroquímica utilizando eletrodos circulares de Ti/IrO2 e Ti/SnO2 tendo como objetivo a oxidação do herbicida atrazina.\n",
        "\n",
        "As variáveis estudadas são:\n",
        "\n",
        "Variável 1: Tempo (min), 10 e 40\n",
        "Variável 2: NaCl (g/L), 0,2 e 1,0\n",
        "Variável 3: Corrente (A), 0,5 e 2,0\n",
        "Variável 4: Tipo de anodo, IrO2 e SrO2.\n",
        "\n",
        "Com 4 variáveis e o experimento sendo sem réplicas, a matriz de experimentos toma a forma de 16 experimentos"
      ],
      "metadata": {
        "id": "Lphr3wsihDD9"
      }
    },
    {
      "cell_type": "code",
      "source": [
        "#Instalando a biblioteca para gerar a matriz de experimentos\n",
        "!pip install pydoe2"
      ],
      "metadata": {
        "id": "JIzuLA0Zhpkt"
      },
      "execution_count": null,
      "outputs": []
    },
    {
      "cell_type": "code",
      "execution_count": 2,
      "metadata": {
        "id": "CC9XnD7jg8Er"
      },
      "outputs": [],
      "source": [
        "import numpy as np\n",
        "import pandas as pd\n",
        "import pyDOE2\n",
        "import matplotlib.pyplot as plt"
      ]
    },
    {
      "cell_type": "code",
      "source": [
        "#Matriz de experimentos codificado com 4 fatores\n",
        "matriz = pyDOE2.ff2n(4)"
      ],
      "metadata": {
        "id": "UpV0CL6EiXVC"
      },
      "execution_count": 3,
      "outputs": []
    },
    {
      "cell_type": "code",
      "source": [
        "#Convertendo o array em dataframe\n",
        "matriz = pd.DataFrame(matriz, columns=['Tempo(v1)', 'NaCl(v2)', 'Corrente(v3)', 'Anodo(v4)'])"
      ],
      "metadata": {
        "id": "Q5zZr-8jj0p5"
      },
      "execution_count": 4,
      "outputs": []
    },
    {
      "cell_type": "code",
      "source": [
        "#Visualizando a matriz codificada\n",
        "matriz"
      ],
      "metadata": {
        "colab": {
          "base_uri": "https://localhost:8080/",
          "height": 551
        },
        "id": "svVTXz7IkTwH",
        "outputId": "2686c343-4eb4-4430-bf1b-5d378133ddff"
      },
      "execution_count": 5,
      "outputs": [
        {
          "output_type": "execute_result",
          "data": {
            "text/plain": [
              "    Tempo(v1)  NaCl(v2)  Corrente(v3)  Anodo(v4)\n",
              "0        -1.0      -1.0          -1.0       -1.0\n",
              "1         1.0      -1.0          -1.0       -1.0\n",
              "2        -1.0       1.0          -1.0       -1.0\n",
              "3         1.0       1.0          -1.0       -1.0\n",
              "4        -1.0      -1.0           1.0       -1.0\n",
              "5         1.0      -1.0           1.0       -1.0\n",
              "6        -1.0       1.0           1.0       -1.0\n",
              "7         1.0       1.0           1.0       -1.0\n",
              "8        -1.0      -1.0          -1.0        1.0\n",
              "9         1.0      -1.0          -1.0        1.0\n",
              "10       -1.0       1.0          -1.0        1.0\n",
              "11        1.0       1.0          -1.0        1.0\n",
              "12       -1.0      -1.0           1.0        1.0\n",
              "13        1.0      -1.0           1.0        1.0\n",
              "14       -1.0       1.0           1.0        1.0\n",
              "15        1.0       1.0           1.0        1.0"
            ],
            "text/html": [
              "\n",
              "  <div id=\"df-86f84aad-3e4a-4d66-966d-7c5ea64aead0\" class=\"colab-df-container\">\n",
              "    <div>\n",
              "<style scoped>\n",
              "    .dataframe tbody tr th:only-of-type {\n",
              "        vertical-align: middle;\n",
              "    }\n",
              "\n",
              "    .dataframe tbody tr th {\n",
              "        vertical-align: top;\n",
              "    }\n",
              "\n",
              "    .dataframe thead th {\n",
              "        text-align: right;\n",
              "    }\n",
              "</style>\n",
              "<table border=\"1\" class=\"dataframe\">\n",
              "  <thead>\n",
              "    <tr style=\"text-align: right;\">\n",
              "      <th></th>\n",
              "      <th>Tempo(v1)</th>\n",
              "      <th>NaCl(v2)</th>\n",
              "      <th>Corrente(v3)</th>\n",
              "      <th>Anodo(v4)</th>\n",
              "    </tr>\n",
              "  </thead>\n",
              "  <tbody>\n",
              "    <tr>\n",
              "      <th>0</th>\n",
              "      <td>-1.0</td>\n",
              "      <td>-1.0</td>\n",
              "      <td>-1.0</td>\n",
              "      <td>-1.0</td>\n",
              "    </tr>\n",
              "    <tr>\n",
              "      <th>1</th>\n",
              "      <td>1.0</td>\n",
              "      <td>-1.0</td>\n",
              "      <td>-1.0</td>\n",
              "      <td>-1.0</td>\n",
              "    </tr>\n",
              "    <tr>\n",
              "      <th>2</th>\n",
              "      <td>-1.0</td>\n",
              "      <td>1.0</td>\n",
              "      <td>-1.0</td>\n",
              "      <td>-1.0</td>\n",
              "    </tr>\n",
              "    <tr>\n",
              "      <th>3</th>\n",
              "      <td>1.0</td>\n",
              "      <td>1.0</td>\n",
              "      <td>-1.0</td>\n",
              "      <td>-1.0</td>\n",
              "    </tr>\n",
              "    <tr>\n",
              "      <th>4</th>\n",
              "      <td>-1.0</td>\n",
              "      <td>-1.0</td>\n",
              "      <td>1.0</td>\n",
              "      <td>-1.0</td>\n",
              "    </tr>\n",
              "    <tr>\n",
              "      <th>5</th>\n",
              "      <td>1.0</td>\n",
              "      <td>-1.0</td>\n",
              "      <td>1.0</td>\n",
              "      <td>-1.0</td>\n",
              "    </tr>\n",
              "    <tr>\n",
              "      <th>6</th>\n",
              "      <td>-1.0</td>\n",
              "      <td>1.0</td>\n",
              "      <td>1.0</td>\n",
              "      <td>-1.0</td>\n",
              "    </tr>\n",
              "    <tr>\n",
              "      <th>7</th>\n",
              "      <td>1.0</td>\n",
              "      <td>1.0</td>\n",
              "      <td>1.0</td>\n",
              "      <td>-1.0</td>\n",
              "    </tr>\n",
              "    <tr>\n",
              "      <th>8</th>\n",
              "      <td>-1.0</td>\n",
              "      <td>-1.0</td>\n",
              "      <td>-1.0</td>\n",
              "      <td>1.0</td>\n",
              "    </tr>\n",
              "    <tr>\n",
              "      <th>9</th>\n",
              "      <td>1.0</td>\n",
              "      <td>-1.0</td>\n",
              "      <td>-1.0</td>\n",
              "      <td>1.0</td>\n",
              "    </tr>\n",
              "    <tr>\n",
              "      <th>10</th>\n",
              "      <td>-1.0</td>\n",
              "      <td>1.0</td>\n",
              "      <td>-1.0</td>\n",
              "      <td>1.0</td>\n",
              "    </tr>\n",
              "    <tr>\n",
              "      <th>11</th>\n",
              "      <td>1.0</td>\n",
              "      <td>1.0</td>\n",
              "      <td>-1.0</td>\n",
              "      <td>1.0</td>\n",
              "    </tr>\n",
              "    <tr>\n",
              "      <th>12</th>\n",
              "      <td>-1.0</td>\n",
              "      <td>-1.0</td>\n",
              "      <td>1.0</td>\n",
              "      <td>1.0</td>\n",
              "    </tr>\n",
              "    <tr>\n",
              "      <th>13</th>\n",
              "      <td>1.0</td>\n",
              "      <td>-1.0</td>\n",
              "      <td>1.0</td>\n",
              "      <td>1.0</td>\n",
              "    </tr>\n",
              "    <tr>\n",
              "      <th>14</th>\n",
              "      <td>-1.0</td>\n",
              "      <td>1.0</td>\n",
              "      <td>1.0</td>\n",
              "      <td>1.0</td>\n",
              "    </tr>\n",
              "    <tr>\n",
              "      <th>15</th>\n",
              "      <td>1.0</td>\n",
              "      <td>1.0</td>\n",
              "      <td>1.0</td>\n",
              "      <td>1.0</td>\n",
              "    </tr>\n",
              "  </tbody>\n",
              "</table>\n",
              "</div>\n",
              "    <div class=\"colab-df-buttons\">\n",
              "\n",
              "  <div class=\"colab-df-container\">\n",
              "    <button class=\"colab-df-convert\" onclick=\"convertToInteractive('df-86f84aad-3e4a-4d66-966d-7c5ea64aead0')\"\n",
              "            title=\"Convert this dataframe to an interactive table.\"\n",
              "            style=\"display:none;\">\n",
              "\n",
              "  <svg xmlns=\"http://www.w3.org/2000/svg\" height=\"24px\" viewBox=\"0 -960 960 960\">\n",
              "    <path d=\"M120-120v-720h720v720H120Zm60-500h600v-160H180v160Zm220 220h160v-160H400v160Zm0 220h160v-160H400v160ZM180-400h160v-160H180v160Zm440 0h160v-160H620v160ZM180-180h160v-160H180v160Zm440 0h160v-160H620v160Z\"/>\n",
              "  </svg>\n",
              "    </button>\n",
              "\n",
              "  <style>\n",
              "    .colab-df-container {\n",
              "      display:flex;\n",
              "      gap: 12px;\n",
              "    }\n",
              "\n",
              "    .colab-df-convert {\n",
              "      background-color: #E8F0FE;\n",
              "      border: none;\n",
              "      border-radius: 50%;\n",
              "      cursor: pointer;\n",
              "      display: none;\n",
              "      fill: #1967D2;\n",
              "      height: 32px;\n",
              "      padding: 0 0 0 0;\n",
              "      width: 32px;\n",
              "    }\n",
              "\n",
              "    .colab-df-convert:hover {\n",
              "      background-color: #E2EBFA;\n",
              "      box-shadow: 0px 1px 2px rgba(60, 64, 67, 0.3), 0px 1px 3px 1px rgba(60, 64, 67, 0.15);\n",
              "      fill: #174EA6;\n",
              "    }\n",
              "\n",
              "    .colab-df-buttons div {\n",
              "      margin-bottom: 4px;\n",
              "    }\n",
              "\n",
              "    [theme=dark] .colab-df-convert {\n",
              "      background-color: #3B4455;\n",
              "      fill: #D2E3FC;\n",
              "    }\n",
              "\n",
              "    [theme=dark] .colab-df-convert:hover {\n",
              "      background-color: #434B5C;\n",
              "      box-shadow: 0px 1px 3px 1px rgba(0, 0, 0, 0.15);\n",
              "      filter: drop-shadow(0px 1px 2px rgba(0, 0, 0, 0.3));\n",
              "      fill: #FFFFFF;\n",
              "    }\n",
              "  </style>\n",
              "\n",
              "    <script>\n",
              "      const buttonEl =\n",
              "        document.querySelector('#df-86f84aad-3e4a-4d66-966d-7c5ea64aead0 button.colab-df-convert');\n",
              "      buttonEl.style.display =\n",
              "        google.colab.kernel.accessAllowed ? 'block' : 'none';\n",
              "\n",
              "      async function convertToInteractive(key) {\n",
              "        const element = document.querySelector('#df-86f84aad-3e4a-4d66-966d-7c5ea64aead0');\n",
              "        const dataTable =\n",
              "          await google.colab.kernel.invokeFunction('convertToInteractive',\n",
              "                                                    [key], {});\n",
              "        if (!dataTable) return;\n",
              "\n",
              "        const docLinkHtml = 'Like what you see? Visit the ' +\n",
              "          '<a target=\"_blank\" href=https://colab.research.google.com/notebooks/data_table.ipynb>data table notebook</a>'\n",
              "          + ' to learn more about interactive tables.';\n",
              "        element.innerHTML = '';\n",
              "        dataTable['output_type'] = 'display_data';\n",
              "        await google.colab.output.renderOutput(dataTable, element);\n",
              "        const docLink = document.createElement('div');\n",
              "        docLink.innerHTML = docLinkHtml;\n",
              "        element.appendChild(docLink);\n",
              "      }\n",
              "    </script>\n",
              "  </div>\n",
              "\n",
              "\n",
              "<div id=\"df-4e73ce17-e85c-4f57-b548-df1887fb65ad\">\n",
              "  <button class=\"colab-df-quickchart\" onclick=\"quickchart('df-4e73ce17-e85c-4f57-b548-df1887fb65ad')\"\n",
              "            title=\"Suggest charts\"\n",
              "            style=\"display:none;\">\n",
              "\n",
              "<svg xmlns=\"http://www.w3.org/2000/svg\" height=\"24px\"viewBox=\"0 0 24 24\"\n",
              "     width=\"24px\">\n",
              "    <g>\n",
              "        <path d=\"M19 3H5c-1.1 0-2 .9-2 2v14c0 1.1.9 2 2 2h14c1.1 0 2-.9 2-2V5c0-1.1-.9-2-2-2zM9 17H7v-7h2v7zm4 0h-2V7h2v10zm4 0h-2v-4h2v4z\"/>\n",
              "    </g>\n",
              "</svg>\n",
              "  </button>\n",
              "\n",
              "<style>\n",
              "  .colab-df-quickchart {\n",
              "      --bg-color: #E8F0FE;\n",
              "      --fill-color: #1967D2;\n",
              "      --hover-bg-color: #E2EBFA;\n",
              "      --hover-fill-color: #174EA6;\n",
              "      --disabled-fill-color: #AAA;\n",
              "      --disabled-bg-color: #DDD;\n",
              "  }\n",
              "\n",
              "  [theme=dark] .colab-df-quickchart {\n",
              "      --bg-color: #3B4455;\n",
              "      --fill-color: #D2E3FC;\n",
              "      --hover-bg-color: #434B5C;\n",
              "      --hover-fill-color: #FFFFFF;\n",
              "      --disabled-bg-color: #3B4455;\n",
              "      --disabled-fill-color: #666;\n",
              "  }\n",
              "\n",
              "  .colab-df-quickchart {\n",
              "    background-color: var(--bg-color);\n",
              "    border: none;\n",
              "    border-radius: 50%;\n",
              "    cursor: pointer;\n",
              "    display: none;\n",
              "    fill: var(--fill-color);\n",
              "    height: 32px;\n",
              "    padding: 0;\n",
              "    width: 32px;\n",
              "  }\n",
              "\n",
              "  .colab-df-quickchart:hover {\n",
              "    background-color: var(--hover-bg-color);\n",
              "    box-shadow: 0 1px 2px rgba(60, 64, 67, 0.3), 0 1px 3px 1px rgba(60, 64, 67, 0.15);\n",
              "    fill: var(--button-hover-fill-color);\n",
              "  }\n",
              "\n",
              "  .colab-df-quickchart-complete:disabled,\n",
              "  .colab-df-quickchart-complete:disabled:hover {\n",
              "    background-color: var(--disabled-bg-color);\n",
              "    fill: var(--disabled-fill-color);\n",
              "    box-shadow: none;\n",
              "  }\n",
              "\n",
              "  .colab-df-spinner {\n",
              "    border: 2px solid var(--fill-color);\n",
              "    border-color: transparent;\n",
              "    border-bottom-color: var(--fill-color);\n",
              "    animation:\n",
              "      spin 1s steps(1) infinite;\n",
              "  }\n",
              "\n",
              "  @keyframes spin {\n",
              "    0% {\n",
              "      border-color: transparent;\n",
              "      border-bottom-color: var(--fill-color);\n",
              "      border-left-color: var(--fill-color);\n",
              "    }\n",
              "    20% {\n",
              "      border-color: transparent;\n",
              "      border-left-color: var(--fill-color);\n",
              "      border-top-color: var(--fill-color);\n",
              "    }\n",
              "    30% {\n",
              "      border-color: transparent;\n",
              "      border-left-color: var(--fill-color);\n",
              "      border-top-color: var(--fill-color);\n",
              "      border-right-color: var(--fill-color);\n",
              "    }\n",
              "    40% {\n",
              "      border-color: transparent;\n",
              "      border-right-color: var(--fill-color);\n",
              "      border-top-color: var(--fill-color);\n",
              "    }\n",
              "    60% {\n",
              "      border-color: transparent;\n",
              "      border-right-color: var(--fill-color);\n",
              "    }\n",
              "    80% {\n",
              "      border-color: transparent;\n",
              "      border-right-color: var(--fill-color);\n",
              "      border-bottom-color: var(--fill-color);\n",
              "    }\n",
              "    90% {\n",
              "      border-color: transparent;\n",
              "      border-bottom-color: var(--fill-color);\n",
              "    }\n",
              "  }\n",
              "</style>\n",
              "\n",
              "  <script>\n",
              "    async function quickchart(key) {\n",
              "      const quickchartButtonEl =\n",
              "        document.querySelector('#' + key + ' button');\n",
              "      quickchartButtonEl.disabled = true;  // To prevent multiple clicks.\n",
              "      quickchartButtonEl.classList.add('colab-df-spinner');\n",
              "      try {\n",
              "        const charts = await google.colab.kernel.invokeFunction(\n",
              "            'suggestCharts', [key], {});\n",
              "      } catch (error) {\n",
              "        console.error('Error during call to suggestCharts:', error);\n",
              "      }\n",
              "      quickchartButtonEl.classList.remove('colab-df-spinner');\n",
              "      quickchartButtonEl.classList.add('colab-df-quickchart-complete');\n",
              "    }\n",
              "    (() => {\n",
              "      let quickchartButtonEl =\n",
              "        document.querySelector('#df-4e73ce17-e85c-4f57-b548-df1887fb65ad button');\n",
              "      quickchartButtonEl.style.display =\n",
              "        google.colab.kernel.accessAllowed ? 'block' : 'none';\n",
              "    })();\n",
              "  </script>\n",
              "</div>\n",
              "\n",
              "  <div id=\"id_f92998a4-16ce-4d3d-8cf7-a21aa1ee4b11\">\n",
              "    <style>\n",
              "      .colab-df-generate {\n",
              "        background-color: #E8F0FE;\n",
              "        border: none;\n",
              "        border-radius: 50%;\n",
              "        cursor: pointer;\n",
              "        display: none;\n",
              "        fill: #1967D2;\n",
              "        height: 32px;\n",
              "        padding: 0 0 0 0;\n",
              "        width: 32px;\n",
              "      }\n",
              "\n",
              "      .colab-df-generate:hover {\n",
              "        background-color: #E2EBFA;\n",
              "        box-shadow: 0px 1px 2px rgba(60, 64, 67, 0.3), 0px 1px 3px 1px rgba(60, 64, 67, 0.15);\n",
              "        fill: #174EA6;\n",
              "      }\n",
              "\n",
              "      [theme=dark] .colab-df-generate {\n",
              "        background-color: #3B4455;\n",
              "        fill: #D2E3FC;\n",
              "      }\n",
              "\n",
              "      [theme=dark] .colab-df-generate:hover {\n",
              "        background-color: #434B5C;\n",
              "        box-shadow: 0px 1px 3px 1px rgba(0, 0, 0, 0.15);\n",
              "        filter: drop-shadow(0px 1px 2px rgba(0, 0, 0, 0.3));\n",
              "        fill: #FFFFFF;\n",
              "      }\n",
              "    </style>\n",
              "    <button class=\"colab-df-generate\" onclick=\"generateWithVariable('matriz')\"\n",
              "            title=\"Generate code using this dataframe.\"\n",
              "            style=\"display:none;\">\n",
              "\n",
              "  <svg xmlns=\"http://www.w3.org/2000/svg\" height=\"24px\"viewBox=\"0 0 24 24\"\n",
              "       width=\"24px\">\n",
              "    <path d=\"M7,19H8.4L18.45,9,17,7.55,7,17.6ZM5,21V16.75L18.45,3.32a2,2,0,0,1,2.83,0l1.4,1.43a1.91,1.91,0,0,1,.58,1.4,1.91,1.91,0,0,1-.58,1.4L9.25,21ZM18.45,9,17,7.55Zm-12,3A5.31,5.31,0,0,0,4.9,8.1,5.31,5.31,0,0,0,1,6.5,5.31,5.31,0,0,0,4.9,4.9,5.31,5.31,0,0,0,6.5,1,5.31,5.31,0,0,0,8.1,4.9,5.31,5.31,0,0,0,12,6.5,5.46,5.46,0,0,0,6.5,12Z\"/>\n",
              "  </svg>\n",
              "    </button>\n",
              "    <script>\n",
              "      (() => {\n",
              "      const buttonEl =\n",
              "        document.querySelector('#id_f92998a4-16ce-4d3d-8cf7-a21aa1ee4b11 button.colab-df-generate');\n",
              "      buttonEl.style.display =\n",
              "        google.colab.kernel.accessAllowed ? 'block' : 'none';\n",
              "\n",
              "      buttonEl.onclick = () => {\n",
              "        google.colab.notebook.generateWithVariable('matriz');\n",
              "      }\n",
              "      })();\n",
              "    </script>\n",
              "  </div>\n",
              "\n",
              "    </div>\n",
              "  </div>\n"
            ],
            "application/vnd.google.colaboratory.intrinsic+json": {
              "type": "dataframe",
              "variable_name": "matriz",
              "summary": "{\n  \"name\": \"matriz\",\n  \"rows\": 16,\n  \"fields\": [\n    {\n      \"column\": \"Tempo(v1)\",\n      \"properties\": {\n        \"dtype\": \"number\",\n        \"std\": 1.0327955589886444,\n        \"min\": -1.0,\n        \"max\": 1.0,\n        \"num_unique_values\": 2,\n        \"samples\": [\n          1.0,\n          -1.0\n        ],\n        \"semantic_type\": \"\",\n        \"description\": \"\"\n      }\n    },\n    {\n      \"column\": \"NaCl(v2)\",\n      \"properties\": {\n        \"dtype\": \"number\",\n        \"std\": 1.0327955589886444,\n        \"min\": -1.0,\n        \"max\": 1.0,\n        \"num_unique_values\": 2,\n        \"samples\": [\n          1.0,\n          -1.0\n        ],\n        \"semantic_type\": \"\",\n        \"description\": \"\"\n      }\n    },\n    {\n      \"column\": \"Corrente(v3)\",\n      \"properties\": {\n        \"dtype\": \"number\",\n        \"std\": 1.0327955589886444,\n        \"min\": -1.0,\n        \"max\": 1.0,\n        \"num_unique_values\": 2,\n        \"samples\": [\n          1.0,\n          -1.0\n        ],\n        \"semantic_type\": \"\",\n        \"description\": \"\"\n      }\n    },\n    {\n      \"column\": \"Anodo(v4)\",\n      \"properties\": {\n        \"dtype\": \"number\",\n        \"std\": 1.0327955589886444,\n        \"min\": -1.0,\n        \"max\": 1.0,\n        \"num_unique_values\": 2,\n        \"samples\": [\n          1.0,\n          -1.0\n        ],\n        \"semantic_type\": \"\",\n        \"description\": \"\"\n      }\n    }\n  ]\n}"
            }
          },
          "metadata": {},
          "execution_count": 5
        }
      ]
    },
    {
      "cell_type": "markdown",
      "source": [
        "# Adicionando a variável resposta à matriz"
      ],
      "metadata": {
        "id": "GFVYSb2j05FY"
      }
    },
    {
      "cell_type": "code",
      "source": [
        "#Abrindo a planilha com a variável resposta\n",
        "teste = pd.read_excel('/content/teste1.xls')"
      ],
      "metadata": {
        "id": "1u940YNOkc-1"
      },
      "execution_count": 6,
      "outputs": []
    },
    {
      "cell_type": "code",
      "source": [
        "#Salvando a resposta\n",
        "resposta = teste['Resposta'][1:-3].reset_index(drop=True)"
      ],
      "metadata": {
        "id": "6VLPlaqyk2jj"
      },
      "execution_count": 7,
      "outputs": []
    },
    {
      "cell_type": "code",
      "source": [
        "matriz['Resposta'] = resposta"
      ],
      "metadata": {
        "id": "B_4MWbOKlJNq"
      },
      "execution_count": 8,
      "outputs": []
    },
    {
      "cell_type": "code",
      "source": [
        "#Matriz de experimentos codificada com a variável resposta\n",
        "matriz"
      ],
      "metadata": {
        "colab": {
          "base_uri": "https://localhost:8080/",
          "height": 551
        },
        "id": "2N4VmS4ilkhN",
        "outputId": "c68c7eaf-666b-485c-fd7c-a8b1f90043d8"
      },
      "execution_count": 9,
      "outputs": [
        {
          "output_type": "execute_result",
          "data": {
            "text/plain": [
              "    Tempo(v1)  NaCl(v2)  Corrente(v3)  Anodo(v4) Resposta\n",
              "0        -1.0      -1.0          -1.0       -1.0     16.6\n",
              "1         1.0      -1.0          -1.0       -1.0     30.8\n",
              "2        -1.0       1.0          -1.0       -1.0     33.4\n",
              "3         1.0       1.0          -1.0       -1.0     59.7\n",
              "4        -1.0      -1.0           1.0       -1.0       49\n",
              "5         1.0      -1.0           1.0       -1.0     75.7\n",
              "6        -1.0       1.0           1.0       -1.0     87.2\n",
              "7         1.0       1.0           1.0       -1.0     95.1\n",
              "8        -1.0      -1.0          -1.0        1.0      5.8\n",
              "9         1.0      -1.0          -1.0        1.0     28.6\n",
              "10       -1.0       1.0          -1.0        1.0     14.3\n",
              "11        1.0       1.0          -1.0        1.0     44.9\n",
              "12       -1.0      -1.0           1.0        1.0     24.4\n",
              "13        1.0      -1.0           1.0        1.0     59.9\n",
              "14       -1.0       1.0           1.0        1.0       25\n",
              "15        1.0       1.0           1.0        1.0     64.5"
            ],
            "text/html": [
              "\n",
              "  <div id=\"df-67b0ac55-292b-4d30-8ab5-3feae5c9b8ef\" class=\"colab-df-container\">\n",
              "    <div>\n",
              "<style scoped>\n",
              "    .dataframe tbody tr th:only-of-type {\n",
              "        vertical-align: middle;\n",
              "    }\n",
              "\n",
              "    .dataframe tbody tr th {\n",
              "        vertical-align: top;\n",
              "    }\n",
              "\n",
              "    .dataframe thead th {\n",
              "        text-align: right;\n",
              "    }\n",
              "</style>\n",
              "<table border=\"1\" class=\"dataframe\">\n",
              "  <thead>\n",
              "    <tr style=\"text-align: right;\">\n",
              "      <th></th>\n",
              "      <th>Tempo(v1)</th>\n",
              "      <th>NaCl(v2)</th>\n",
              "      <th>Corrente(v3)</th>\n",
              "      <th>Anodo(v4)</th>\n",
              "      <th>Resposta</th>\n",
              "    </tr>\n",
              "  </thead>\n",
              "  <tbody>\n",
              "    <tr>\n",
              "      <th>0</th>\n",
              "      <td>-1.0</td>\n",
              "      <td>-1.0</td>\n",
              "      <td>-1.0</td>\n",
              "      <td>-1.0</td>\n",
              "      <td>16.6</td>\n",
              "    </tr>\n",
              "    <tr>\n",
              "      <th>1</th>\n",
              "      <td>1.0</td>\n",
              "      <td>-1.0</td>\n",
              "      <td>-1.0</td>\n",
              "      <td>-1.0</td>\n",
              "      <td>30.8</td>\n",
              "    </tr>\n",
              "    <tr>\n",
              "      <th>2</th>\n",
              "      <td>-1.0</td>\n",
              "      <td>1.0</td>\n",
              "      <td>-1.0</td>\n",
              "      <td>-1.0</td>\n",
              "      <td>33.4</td>\n",
              "    </tr>\n",
              "    <tr>\n",
              "      <th>3</th>\n",
              "      <td>1.0</td>\n",
              "      <td>1.0</td>\n",
              "      <td>-1.0</td>\n",
              "      <td>-1.0</td>\n",
              "      <td>59.7</td>\n",
              "    </tr>\n",
              "    <tr>\n",
              "      <th>4</th>\n",
              "      <td>-1.0</td>\n",
              "      <td>-1.0</td>\n",
              "      <td>1.0</td>\n",
              "      <td>-1.0</td>\n",
              "      <td>49</td>\n",
              "    </tr>\n",
              "    <tr>\n",
              "      <th>5</th>\n",
              "      <td>1.0</td>\n",
              "      <td>-1.0</td>\n",
              "      <td>1.0</td>\n",
              "      <td>-1.0</td>\n",
              "      <td>75.7</td>\n",
              "    </tr>\n",
              "    <tr>\n",
              "      <th>6</th>\n",
              "      <td>-1.0</td>\n",
              "      <td>1.0</td>\n",
              "      <td>1.0</td>\n",
              "      <td>-1.0</td>\n",
              "      <td>87.2</td>\n",
              "    </tr>\n",
              "    <tr>\n",
              "      <th>7</th>\n",
              "      <td>1.0</td>\n",
              "      <td>1.0</td>\n",
              "      <td>1.0</td>\n",
              "      <td>-1.0</td>\n",
              "      <td>95.1</td>\n",
              "    </tr>\n",
              "    <tr>\n",
              "      <th>8</th>\n",
              "      <td>-1.0</td>\n",
              "      <td>-1.0</td>\n",
              "      <td>-1.0</td>\n",
              "      <td>1.0</td>\n",
              "      <td>5.8</td>\n",
              "    </tr>\n",
              "    <tr>\n",
              "      <th>9</th>\n",
              "      <td>1.0</td>\n",
              "      <td>-1.0</td>\n",
              "      <td>-1.0</td>\n",
              "      <td>1.0</td>\n",
              "      <td>28.6</td>\n",
              "    </tr>\n",
              "    <tr>\n",
              "      <th>10</th>\n",
              "      <td>-1.0</td>\n",
              "      <td>1.0</td>\n",
              "      <td>-1.0</td>\n",
              "      <td>1.0</td>\n",
              "      <td>14.3</td>\n",
              "    </tr>\n",
              "    <tr>\n",
              "      <th>11</th>\n",
              "      <td>1.0</td>\n",
              "      <td>1.0</td>\n",
              "      <td>-1.0</td>\n",
              "      <td>1.0</td>\n",
              "      <td>44.9</td>\n",
              "    </tr>\n",
              "    <tr>\n",
              "      <th>12</th>\n",
              "      <td>-1.0</td>\n",
              "      <td>-1.0</td>\n",
              "      <td>1.0</td>\n",
              "      <td>1.0</td>\n",
              "      <td>24.4</td>\n",
              "    </tr>\n",
              "    <tr>\n",
              "      <th>13</th>\n",
              "      <td>1.0</td>\n",
              "      <td>-1.0</td>\n",
              "      <td>1.0</td>\n",
              "      <td>1.0</td>\n",
              "      <td>59.9</td>\n",
              "    </tr>\n",
              "    <tr>\n",
              "      <th>14</th>\n",
              "      <td>-1.0</td>\n",
              "      <td>1.0</td>\n",
              "      <td>1.0</td>\n",
              "      <td>1.0</td>\n",
              "      <td>25</td>\n",
              "    </tr>\n",
              "    <tr>\n",
              "      <th>15</th>\n",
              "      <td>1.0</td>\n",
              "      <td>1.0</td>\n",
              "      <td>1.0</td>\n",
              "      <td>1.0</td>\n",
              "      <td>64.5</td>\n",
              "    </tr>\n",
              "  </tbody>\n",
              "</table>\n",
              "</div>\n",
              "    <div class=\"colab-df-buttons\">\n",
              "\n",
              "  <div class=\"colab-df-container\">\n",
              "    <button class=\"colab-df-convert\" onclick=\"convertToInteractive('df-67b0ac55-292b-4d30-8ab5-3feae5c9b8ef')\"\n",
              "            title=\"Convert this dataframe to an interactive table.\"\n",
              "            style=\"display:none;\">\n",
              "\n",
              "  <svg xmlns=\"http://www.w3.org/2000/svg\" height=\"24px\" viewBox=\"0 -960 960 960\">\n",
              "    <path d=\"M120-120v-720h720v720H120Zm60-500h600v-160H180v160Zm220 220h160v-160H400v160Zm0 220h160v-160H400v160ZM180-400h160v-160H180v160Zm440 0h160v-160H620v160ZM180-180h160v-160H180v160Zm440 0h160v-160H620v160Z\"/>\n",
              "  </svg>\n",
              "    </button>\n",
              "\n",
              "  <style>\n",
              "    .colab-df-container {\n",
              "      display:flex;\n",
              "      gap: 12px;\n",
              "    }\n",
              "\n",
              "    .colab-df-convert {\n",
              "      background-color: #E8F0FE;\n",
              "      border: none;\n",
              "      border-radius: 50%;\n",
              "      cursor: pointer;\n",
              "      display: none;\n",
              "      fill: #1967D2;\n",
              "      height: 32px;\n",
              "      padding: 0 0 0 0;\n",
              "      width: 32px;\n",
              "    }\n",
              "\n",
              "    .colab-df-convert:hover {\n",
              "      background-color: #E2EBFA;\n",
              "      box-shadow: 0px 1px 2px rgba(60, 64, 67, 0.3), 0px 1px 3px 1px rgba(60, 64, 67, 0.15);\n",
              "      fill: #174EA6;\n",
              "    }\n",
              "\n",
              "    .colab-df-buttons div {\n",
              "      margin-bottom: 4px;\n",
              "    }\n",
              "\n",
              "    [theme=dark] .colab-df-convert {\n",
              "      background-color: #3B4455;\n",
              "      fill: #D2E3FC;\n",
              "    }\n",
              "\n",
              "    [theme=dark] .colab-df-convert:hover {\n",
              "      background-color: #434B5C;\n",
              "      box-shadow: 0px 1px 3px 1px rgba(0, 0, 0, 0.15);\n",
              "      filter: drop-shadow(0px 1px 2px rgba(0, 0, 0, 0.3));\n",
              "      fill: #FFFFFF;\n",
              "    }\n",
              "  </style>\n",
              "\n",
              "    <script>\n",
              "      const buttonEl =\n",
              "        document.querySelector('#df-67b0ac55-292b-4d30-8ab5-3feae5c9b8ef button.colab-df-convert');\n",
              "      buttonEl.style.display =\n",
              "        google.colab.kernel.accessAllowed ? 'block' : 'none';\n",
              "\n",
              "      async function convertToInteractive(key) {\n",
              "        const element = document.querySelector('#df-67b0ac55-292b-4d30-8ab5-3feae5c9b8ef');\n",
              "        const dataTable =\n",
              "          await google.colab.kernel.invokeFunction('convertToInteractive',\n",
              "                                                    [key], {});\n",
              "        if (!dataTable) return;\n",
              "\n",
              "        const docLinkHtml = 'Like what you see? Visit the ' +\n",
              "          '<a target=\"_blank\" href=https://colab.research.google.com/notebooks/data_table.ipynb>data table notebook</a>'\n",
              "          + ' to learn more about interactive tables.';\n",
              "        element.innerHTML = '';\n",
              "        dataTable['output_type'] = 'display_data';\n",
              "        await google.colab.output.renderOutput(dataTable, element);\n",
              "        const docLink = document.createElement('div');\n",
              "        docLink.innerHTML = docLinkHtml;\n",
              "        element.appendChild(docLink);\n",
              "      }\n",
              "    </script>\n",
              "  </div>\n",
              "\n",
              "\n",
              "<div id=\"df-d7ecd7fe-7610-44d8-98b4-e88397bd0ed9\">\n",
              "  <button class=\"colab-df-quickchart\" onclick=\"quickchart('df-d7ecd7fe-7610-44d8-98b4-e88397bd0ed9')\"\n",
              "            title=\"Suggest charts\"\n",
              "            style=\"display:none;\">\n",
              "\n",
              "<svg xmlns=\"http://www.w3.org/2000/svg\" height=\"24px\"viewBox=\"0 0 24 24\"\n",
              "     width=\"24px\">\n",
              "    <g>\n",
              "        <path d=\"M19 3H5c-1.1 0-2 .9-2 2v14c0 1.1.9 2 2 2h14c1.1 0 2-.9 2-2V5c0-1.1-.9-2-2-2zM9 17H7v-7h2v7zm4 0h-2V7h2v10zm4 0h-2v-4h2v4z\"/>\n",
              "    </g>\n",
              "</svg>\n",
              "  </button>\n",
              "\n",
              "<style>\n",
              "  .colab-df-quickchart {\n",
              "      --bg-color: #E8F0FE;\n",
              "      --fill-color: #1967D2;\n",
              "      --hover-bg-color: #E2EBFA;\n",
              "      --hover-fill-color: #174EA6;\n",
              "      --disabled-fill-color: #AAA;\n",
              "      --disabled-bg-color: #DDD;\n",
              "  }\n",
              "\n",
              "  [theme=dark] .colab-df-quickchart {\n",
              "      --bg-color: #3B4455;\n",
              "      --fill-color: #D2E3FC;\n",
              "      --hover-bg-color: #434B5C;\n",
              "      --hover-fill-color: #FFFFFF;\n",
              "      --disabled-bg-color: #3B4455;\n",
              "      --disabled-fill-color: #666;\n",
              "  }\n",
              "\n",
              "  .colab-df-quickchart {\n",
              "    background-color: var(--bg-color);\n",
              "    border: none;\n",
              "    border-radius: 50%;\n",
              "    cursor: pointer;\n",
              "    display: none;\n",
              "    fill: var(--fill-color);\n",
              "    height: 32px;\n",
              "    padding: 0;\n",
              "    width: 32px;\n",
              "  }\n",
              "\n",
              "  .colab-df-quickchart:hover {\n",
              "    background-color: var(--hover-bg-color);\n",
              "    box-shadow: 0 1px 2px rgba(60, 64, 67, 0.3), 0 1px 3px 1px rgba(60, 64, 67, 0.15);\n",
              "    fill: var(--button-hover-fill-color);\n",
              "  }\n",
              "\n",
              "  .colab-df-quickchart-complete:disabled,\n",
              "  .colab-df-quickchart-complete:disabled:hover {\n",
              "    background-color: var(--disabled-bg-color);\n",
              "    fill: var(--disabled-fill-color);\n",
              "    box-shadow: none;\n",
              "  }\n",
              "\n",
              "  .colab-df-spinner {\n",
              "    border: 2px solid var(--fill-color);\n",
              "    border-color: transparent;\n",
              "    border-bottom-color: var(--fill-color);\n",
              "    animation:\n",
              "      spin 1s steps(1) infinite;\n",
              "  }\n",
              "\n",
              "  @keyframes spin {\n",
              "    0% {\n",
              "      border-color: transparent;\n",
              "      border-bottom-color: var(--fill-color);\n",
              "      border-left-color: var(--fill-color);\n",
              "    }\n",
              "    20% {\n",
              "      border-color: transparent;\n",
              "      border-left-color: var(--fill-color);\n",
              "      border-top-color: var(--fill-color);\n",
              "    }\n",
              "    30% {\n",
              "      border-color: transparent;\n",
              "      border-left-color: var(--fill-color);\n",
              "      border-top-color: var(--fill-color);\n",
              "      border-right-color: var(--fill-color);\n",
              "    }\n",
              "    40% {\n",
              "      border-color: transparent;\n",
              "      border-right-color: var(--fill-color);\n",
              "      border-top-color: var(--fill-color);\n",
              "    }\n",
              "    60% {\n",
              "      border-color: transparent;\n",
              "      border-right-color: var(--fill-color);\n",
              "    }\n",
              "    80% {\n",
              "      border-color: transparent;\n",
              "      border-right-color: var(--fill-color);\n",
              "      border-bottom-color: var(--fill-color);\n",
              "    }\n",
              "    90% {\n",
              "      border-color: transparent;\n",
              "      border-bottom-color: var(--fill-color);\n",
              "    }\n",
              "  }\n",
              "</style>\n",
              "\n",
              "  <script>\n",
              "    async function quickchart(key) {\n",
              "      const quickchartButtonEl =\n",
              "        document.querySelector('#' + key + ' button');\n",
              "      quickchartButtonEl.disabled = true;  // To prevent multiple clicks.\n",
              "      quickchartButtonEl.classList.add('colab-df-spinner');\n",
              "      try {\n",
              "        const charts = await google.colab.kernel.invokeFunction(\n",
              "            'suggestCharts', [key], {});\n",
              "      } catch (error) {\n",
              "        console.error('Error during call to suggestCharts:', error);\n",
              "      }\n",
              "      quickchartButtonEl.classList.remove('colab-df-spinner');\n",
              "      quickchartButtonEl.classList.add('colab-df-quickchart-complete');\n",
              "    }\n",
              "    (() => {\n",
              "      let quickchartButtonEl =\n",
              "        document.querySelector('#df-d7ecd7fe-7610-44d8-98b4-e88397bd0ed9 button');\n",
              "      quickchartButtonEl.style.display =\n",
              "        google.colab.kernel.accessAllowed ? 'block' : 'none';\n",
              "    })();\n",
              "  </script>\n",
              "</div>\n",
              "\n",
              "  <div id=\"id_ec7a8ece-6e94-4cc8-83ec-13ad0ba70dab\">\n",
              "    <style>\n",
              "      .colab-df-generate {\n",
              "        background-color: #E8F0FE;\n",
              "        border: none;\n",
              "        border-radius: 50%;\n",
              "        cursor: pointer;\n",
              "        display: none;\n",
              "        fill: #1967D2;\n",
              "        height: 32px;\n",
              "        padding: 0 0 0 0;\n",
              "        width: 32px;\n",
              "      }\n",
              "\n",
              "      .colab-df-generate:hover {\n",
              "        background-color: #E2EBFA;\n",
              "        box-shadow: 0px 1px 2px rgba(60, 64, 67, 0.3), 0px 1px 3px 1px rgba(60, 64, 67, 0.15);\n",
              "        fill: #174EA6;\n",
              "      }\n",
              "\n",
              "      [theme=dark] .colab-df-generate {\n",
              "        background-color: #3B4455;\n",
              "        fill: #D2E3FC;\n",
              "      }\n",
              "\n",
              "      [theme=dark] .colab-df-generate:hover {\n",
              "        background-color: #434B5C;\n",
              "        box-shadow: 0px 1px 3px 1px rgba(0, 0, 0, 0.15);\n",
              "        filter: drop-shadow(0px 1px 2px rgba(0, 0, 0, 0.3));\n",
              "        fill: #FFFFFF;\n",
              "      }\n",
              "    </style>\n",
              "    <button class=\"colab-df-generate\" onclick=\"generateWithVariable('matriz')\"\n",
              "            title=\"Generate code using this dataframe.\"\n",
              "            style=\"display:none;\">\n",
              "\n",
              "  <svg xmlns=\"http://www.w3.org/2000/svg\" height=\"24px\"viewBox=\"0 0 24 24\"\n",
              "       width=\"24px\">\n",
              "    <path d=\"M7,19H8.4L18.45,9,17,7.55,7,17.6ZM5,21V16.75L18.45,3.32a2,2,0,0,1,2.83,0l1.4,1.43a1.91,1.91,0,0,1,.58,1.4,1.91,1.91,0,0,1-.58,1.4L9.25,21ZM18.45,9,17,7.55Zm-12,3A5.31,5.31,0,0,0,4.9,8.1,5.31,5.31,0,0,0,1,6.5,5.31,5.31,0,0,0,4.9,4.9,5.31,5.31,0,0,0,6.5,1,5.31,5.31,0,0,0,8.1,4.9,5.31,5.31,0,0,0,12,6.5,5.46,5.46,0,0,0,6.5,12Z\"/>\n",
              "  </svg>\n",
              "    </button>\n",
              "    <script>\n",
              "      (() => {\n",
              "      const buttonEl =\n",
              "        document.querySelector('#id_ec7a8ece-6e94-4cc8-83ec-13ad0ba70dab button.colab-df-generate');\n",
              "      buttonEl.style.display =\n",
              "        google.colab.kernel.accessAllowed ? 'block' : 'none';\n",
              "\n",
              "      buttonEl.onclick = () => {\n",
              "        google.colab.notebook.generateWithVariable('matriz');\n",
              "      }\n",
              "      })();\n",
              "    </script>\n",
              "  </div>\n",
              "\n",
              "    </div>\n",
              "  </div>\n"
            ],
            "application/vnd.google.colaboratory.intrinsic+json": {
              "type": "dataframe",
              "variable_name": "matriz",
              "summary": "{\n  \"name\": \"matriz\",\n  \"rows\": 16,\n  \"fields\": [\n    {\n      \"column\": \"Tempo(v1)\",\n      \"properties\": {\n        \"dtype\": \"number\",\n        \"std\": 1.0327955589886444,\n        \"min\": -1.0,\n        \"max\": 1.0,\n        \"num_unique_values\": 2,\n        \"samples\": [\n          1.0,\n          -1.0\n        ],\n        \"semantic_type\": \"\",\n        \"description\": \"\"\n      }\n    },\n    {\n      \"column\": \"NaCl(v2)\",\n      \"properties\": {\n        \"dtype\": \"number\",\n        \"std\": 1.0327955589886444,\n        \"min\": -1.0,\n        \"max\": 1.0,\n        \"num_unique_values\": 2,\n        \"samples\": [\n          1.0,\n          -1.0\n        ],\n        \"semantic_type\": \"\",\n        \"description\": \"\"\n      }\n    },\n    {\n      \"column\": \"Corrente(v3)\",\n      \"properties\": {\n        \"dtype\": \"number\",\n        \"std\": 1.0327955589886444,\n        \"min\": -1.0,\n        \"max\": 1.0,\n        \"num_unique_values\": 2,\n        \"samples\": [\n          1.0,\n          -1.0\n        ],\n        \"semantic_type\": \"\",\n        \"description\": \"\"\n      }\n    },\n    {\n      \"column\": \"Anodo(v4)\",\n      \"properties\": {\n        \"dtype\": \"number\",\n        \"std\": 1.0327955589886444,\n        \"min\": -1.0,\n        \"max\": 1.0,\n        \"num_unique_values\": 2,\n        \"samples\": [\n          1.0,\n          -1.0\n        ],\n        \"semantic_type\": \"\",\n        \"description\": \"\"\n      }\n    },\n    {\n      \"column\": \"Resposta\",\n      \"properties\": {\n        \"dtype\": \"date\",\n        \"min\": 5.8,\n        \"max\": 95.1,\n        \"num_unique_values\": 16,\n        \"samples\": [\n          16.6,\n          30.8\n        ],\n        \"semantic_type\": \"\",\n        \"description\": \"\"\n      }\n    }\n  ]\n}"
            }
          },
          "metadata": {},
          "execution_count": 9
        }
      ]
    },
    {
      "cell_type": "markdown",
      "source": [
        "# Adicionando os efeitos primários"
      ],
      "metadata": {
        "id": "Dwdpe08rmCvk"
      }
    },
    {
      "cell_type": "code",
      "source": [
        "#Criando variáveis para cada efeito primário\n",
        "\n",
        "efeito1 = matriz['Tempo(v1)'] * matriz['Resposta']\n",
        "efeito2 = matriz['NaCl(v2)'] * matriz['Resposta']\n",
        "efeito3 = matriz['Corrente(v3)'] * matriz['Resposta']\n",
        "efeito4 = matriz['Anodo(v4)'] * matriz['Resposta']\n",
        "\n",
        "efeitos_primarios = [efeito1, efeito2, efeito3, efeito4]\n",
        "\n",
        "efeitos_1 = pd.concat(efeitos_primarios, axis=1)\n",
        "efeitos_1.columns = ['efeito1', 'efeito2', 'efeito3', 'efeito4']"
      ],
      "metadata": {
        "id": "MXobC_MRmGMQ"
      },
      "execution_count": 10,
      "outputs": []
    },
    {
      "cell_type": "code",
      "source": [
        "matriz = pd.concat([matriz, efeitos_1], axis=1)"
      ],
      "metadata": {
        "id": "WVmUfcbrm2aG"
      },
      "execution_count": 11,
      "outputs": []
    },
    {
      "cell_type": "markdown",
      "source": [
        "# Adicionando os efeitos secundários\n",
        "\n",
        "Temos 4 variáveis, então teremos os seguintes efeitos secundários: 12, 13, 14, 23, 24, 34."
      ],
      "metadata": {
        "id": "xQZKQmT0rPRG"
      }
    },
    {
      "cell_type": "code",
      "source": [
        "#Criando variáveis para cada efeito secundário\n",
        "\n",
        "efeito12 = matriz['Tempo(v1)'] * matriz['NaCl(v2)'] * matriz['Resposta']\n",
        "efeito13 = matriz['Tempo(v1)'] * matriz['Corrente(v3)'] * matriz['Resposta']\n",
        "efeito14 = matriz['Tempo(v1)'] * matriz['Anodo(v4)'] * matriz['Resposta']\n",
        "efeito23 = matriz['NaCl(v2)'] * matriz['Corrente(v3)'] * matriz['Resposta']\n",
        "efeito24 = matriz['NaCl(v2)'] * matriz['Anodo(v4)'] * matriz['Resposta']\n",
        "efeito34 = matriz['Corrente(v3)'] * matriz['Anodo(v4)'] * matriz['Resposta']\n",
        "\n",
        "efeitos_secundarios = [efeito12, efeito13, efeito14, efeito23, efeito24, efeito34]\n",
        "\n",
        "efeitos_2 = pd.concat(efeitos_secundarios, axis=1)\n",
        "efeitos_2.columns = ['efeito12', 'efeito13', 'efeito14', 'efeito23', 'efeito24', 'efeito34']"
      ],
      "metadata": {
        "id": "r69HiVD4rb50"
      },
      "execution_count": 12,
      "outputs": []
    },
    {
      "cell_type": "code",
      "source": [
        "matriz = pd.concat([matriz, efeitos_2], axis=1)"
      ],
      "metadata": {
        "id": "ibcznAI9sm16"
      },
      "execution_count": 13,
      "outputs": []
    },
    {
      "cell_type": "markdown",
      "source": [
        "# Adicionando os efeitos terciários\n",
        "\n",
        "Temos 4 variáveis, então possuímos os seguintes efeitos terciários: 123, 124, 134 e 234."
      ],
      "metadata": {
        "id": "elQt8PWXsx3h"
      }
    },
    {
      "cell_type": "code",
      "source": [
        "#Criando variáveis para cada efeito terciário\n",
        "\n",
        "efeito123 = matriz['Tempo(v1)'] * matriz['NaCl(v2)'] * matriz['Corrente(v3)'] * matriz['Resposta']\n",
        "efeito124 = matriz['Tempo(v1)'] * matriz['NaCl(v2)'] * matriz['Anodo(v4)'] * matriz['Resposta']\n",
        "efeito134 = matriz['Tempo(v1)'] * matriz['Corrente(v3)'] * matriz['Anodo(v4)'] * matriz['Resposta']\n",
        "efeito234 = matriz['NaCl(v2)'] * matriz['Corrente(v3)'] * matriz['Anodo(v4)'] * matriz['Resposta']\n",
        "\n",
        "efeitos_terciarios = [efeito123, efeito124, efeito134, efeito234]\n",
        "\n",
        "efeitos_3 = pd.concat(efeitos_terciarios, axis=1)\n",
        "efeitos_3.columns = ['efeito123', 'efeito124', 'efeito134', 'efeito234']"
      ],
      "metadata": {
        "id": "ohiycHBFtFlE"
      },
      "execution_count": 15,
      "outputs": []
    },
    {
      "cell_type": "code",
      "source": [
        "matriz = pd.concat([matriz, efeitos_3], axis=1)"
      ],
      "metadata": {
        "id": "LSd1A-6yuHQD"
      },
      "execution_count": 16,
      "outputs": []
    },
    {
      "cell_type": "markdown",
      "source": [
        "# Adicionando o efeito quaternário\n",
        "Posuímos apenas 1 efeito quaternário: 1234"
      ],
      "metadata": {
        "id": "rvBj6MjXuPy6"
      }
    },
    {
      "cell_type": "code",
      "source": [
        "#Criando variáveis para efeito quaternário\n",
        "efeito1234 = matriz['Tempo(v1)'] * matriz['NaCl(v2)'] * matriz['Corrente(v3)'] * matriz['Anodo(v4)'] * matriz['Resposta']\n",
        "\n",
        "efeitos_quaternarios = [efeito1234]\n",
        "\n",
        "efeitos_4 = pd.concat(efeitos_quaternarios, axis=1)\n",
        "efeitos_4.columns = ['efeito1234']"
      ],
      "metadata": {
        "id": "9cqBWxxCuO7q"
      },
      "execution_count": 17,
      "outputs": []
    },
    {
      "cell_type": "code",
      "source": [
        "matriz = pd.concat([matriz, efeitos_4], axis=1)"
      ],
      "metadata": {
        "id": "oHcCkWMHuriw"
      },
      "execution_count": 18,
      "outputs": []
    },
    {
      "cell_type": "markdown",
      "source": [
        "# Calculando os efeitos"
      ],
      "metadata": {
        "id": "HSQrHxne0d9U"
      }
    },
    {
      "cell_type": "code",
      "source": [
        "soma = matriz.iloc[:, 5:].sum()\n",
        "efeitos_brutos = soma / 8"
      ],
      "metadata": {
        "id": "GWqwdZztu788"
      },
      "execution_count": 19,
      "outputs": []
    },
    {
      "cell_type": "code",
      "source": [
        "#Ordenando os efeitos\n",
        "\n",
        "efeitos_brutos = efeitos_brutos.sort_values(ascending=True)"
      ],
      "metadata": {
        "id": "9GVGpHbvSk-v"
      },
      "execution_count": 21,
      "outputs": []
    },
    {
      "cell_type": "code",
      "source": [
        "#Efeitos primários e demais interações\n",
        "efeitos_brutos"
      ],
      "metadata": {
        "colab": {
          "base_uri": "https://localhost:8080/"
        },
        "id": "nlYS_hhny7NY",
        "outputId": "a4b366fa-6324-4ac9-b1fe-dbe9d89b8732"
      },
      "execution_count": 22,
      "outputs": [
        {
          "output_type": "execute_result",
          "data": {
            "text/plain": [
              "efeito4      -22.5125\n",
              "efeito34     -10.7875\n",
              "efeito24      -9.1625\n",
              "efeito123     -4.3375\n",
              "efeito234     -3.9375\n",
              "efeito23      -0.9625\n",
              "efeito12       0.6375\n",
              "efeito13       1.9625\n",
              "efeito124      2.3125\n",
              "efeito1234     3.3875\n",
              "efeito134      3.4375\n",
              "efeito14       6.6625\n",
              "efeito2       16.6625\n",
              "efeito1       25.4375\n",
              "efeito3       30.8375\n",
              "dtype: object"
            ]
          },
          "metadata": {},
          "execution_count": 22
        }
      ]
    },
    {
      "cell_type": "markdown",
      "source": [
        "# Gráfico de efeito de cada variável e interação"
      ],
      "metadata": {
        "id": "honKQm624LXZ"
      }
    },
    {
      "cell_type": "code",
      "source": [
        "#Gráfico dos efeitos brutos e as interações de 2, 3 e 4° ordem.\n",
        "efeitos_brutos.plot(kind='bar')\n",
        "for i, valor in enumerate(efeitos_brutos):\n",
        "  plt.text(i, valor, int(valor), ha='center', va='bottom')\n",
        "plt.xlabel('Efeitos')\n",
        "plt.ylabel('Magnitude')\n",
        "plt.title('Magnitude dos Efeitos')\n",
        "plt.xticks(rotation=45)\n",
        "plt.show()"
      ],
      "metadata": {
        "colab": {
          "base_uri": "https://localhost:8080/",
          "height": 521
        },
        "id": "leKMXSdE4PAL",
        "outputId": "9de7fd7f-f3b8-4d79-e7bc-7e3179bafefb"
      },
      "execution_count": 56,
      "outputs": [
        {
          "output_type": "display_data",
          "data": {
            "text/plain": [
              "<Figure size 640x480 with 1 Axes>"
            ],
            "image/png": "[encoded data removed]"
          },
          "metadata": {}
        }
      ]
    },
    {
      "cell_type": "markdown",
      "source": [
        "# Calculando a porcentagem de cada efeito"
      ],
      "metadata": {
        "id": "e1hkiaaA0MWm"
      }
    },
    {
      "cell_type": "code",
      "source": [
        "#Elevando os efeitos ao quadrado para retirar o sinal negativo\n",
        "quadrado_efeitos = efeitos_brutos ** 2"
      ],
      "metadata": {
        "id": "SOHpLbV00P7j"
      },
      "execution_count": 24,
      "outputs": []
    },
    {
      "cell_type": "code",
      "source": [
        "#Somando todos os efeitos\n",
        "soma_efeitos = quadrado_efeitos.sum()"
      ],
      "metadata": {
        "id": "S0FGGxCf0XJ4"
      },
      "execution_count": 25,
      "outputs": []
    },
    {
      "cell_type": "code",
      "source": [
        "# Definindo a porcentagem de cada efeito\n",
        "porcentagens = (quadrado_efeitos / soma_efeitos) * 100"
      ],
      "metadata": {
        "id": "Wg1CTgzWxdd1"
      },
      "execution_count": 26,
      "outputs": []
    },
    {
      "cell_type": "code",
      "source": [
        "#Colocando as porcentagens em ordem crescente\n",
        "porcentagens = porcentagens.sort_values(ascending=True)"
      ],
      "metadata": {
        "id": "lL02DANC0xx2"
      },
      "execution_count": 27,
      "outputs": []
    },
    {
      "cell_type": "markdown",
      "source": [
        "# Calculando a área da curva e z score para o gráfico de probabilidade dos efeitos"
      ],
      "metadata": {
        "id": "byZ4Mw300jJK"
      }
    },
    {
      "cell_type": "code",
      "source": [
        "#Definindo uma curva com 15 partes\n",
        "zero = 0\n",
        "incremento = 1/15\n",
        "elementos = 15\n",
        "\n",
        "inicio = [zero + i * incremento for i in range(elementos)]"
      ],
      "metadata": {
        "id": "xSW8Wqhr8wG9"
      },
      "execution_count": 28,
      "outputs": []
    },
    {
      "cell_type": "code",
      "source": [
        "#Sequência númerica de 15\n",
        "seq = list(range(1, 16))\n",
        "\n",
        "final = [num/15 for num in seq]"
      ],
      "metadata": {
        "id": "0SeptSEx5jkG"
      },
      "execution_count": 29,
      "outputs": []
    },
    {
      "cell_type": "code",
      "source": [
        "# Somando as listas para poder gerar a média\n",
        "soma_listas = [x + y for x, y in zip(inicio, final)]"
      ],
      "metadata": {
        "id": "3EWw90m29JYc"
      },
      "execution_count": 30,
      "outputs": []
    },
    {
      "cell_type": "code",
      "source": [
        "# Média das listas que representa a probabilidade debaixo da curva\n",
        "ponto_central = [i /2 for i in soma_listas]"
      ],
      "metadata": {
        "id": "H4Ov4ctp-XJi"
      },
      "execution_count": 31,
      "outputs": []
    },
    {
      "cell_type": "code",
      "source": [
        "#Calculando a média e desvio padrão\n",
        "media = np.mean(ponto_central)\n",
        "std = np.std(ponto_central)"
      ],
      "metadata": {
        "id": "x01x7Ne8Wjq9"
      },
      "execution_count": 54,
      "outputs": []
    },
    {
      "cell_type": "code",
      "source": [
        "#Calculando o z score\n",
        "z = np.round([(i - media) / std for i in ponto_central], decimals=3)"
      ],
      "metadata": {
        "id": "I5bjaWOsWzXC"
      },
      "execution_count": 55,
      "outputs": []
    },
    {
      "cell_type": "markdown",
      "source": [
        "# Gráfico de porcentagem de contribuição dos efeitos e de probabilidade"
      ],
      "metadata": {
        "id": "hDwCDY_wTQDl"
      }
    },
    {
      "cell_type": "code",
      "source": [
        "# Gráfico de probabilidades\n",
        "import seaborn as sns\n",
        "\n",
        "prob = sns.scatterplot(x=efeitos_brutos.values, y=z, hue=efeitos_brutos.index)\n",
        "prob.set_title('Gráfico de Probabilidade')\n",
        "prob.set_xlabel('Efeitos')\n",
        "prob.set_ylabel('Z')\n",
        "plt.legend(fontsize='small');"
      ],
      "metadata": {
        "colab": {
          "base_uri": "https://localhost:8080/",
          "height": 472
        },
        "id": "1KBxDmOmDq8Q",
        "outputId": "b883bb25-e25d-4bd3-ff2e-acb5c55a0297"
      },
      "execution_count": 65,
      "outputs": [
        {
          "output_type": "display_data",
          "data": {
            "text/plain": [
              "<Figure size 640x480 with 1 Axes>"
            ],
            "image/png": "[encoded data removed]"
          },
          "metadata": {}
        }
      ]
    },
    {
      "cell_type": "code",
      "source": [
        "# Gráfico de contribuição efetiva\n",
        "porcentagens.plot(kind='bar')\n",
        "for i, valor in enumerate(porcentagens):\n",
        "  plt.text(i, valor, int(valor), ha='center', va='bottom')\n",
        "plt.xlabel('Efeitos')\n",
        "plt.ylabel('%')\n",
        "plt.xticks(rotation=45)\n",
        "plt.title('% de contribuição dos efeitos')\n",
        "plt.show()\n",
        "\n"
      ],
      "metadata": {
        "colab": {
          "base_uri": "https://localhost:8080/",
          "height": 521
        },
        "id": "MByAkAwx2ESe",
        "outputId": "04ab74df-d6e5-4e0c-b0e0-2f45bbf7e0ab"
      },
      "execution_count": 50,
      "outputs": [
        {
          "output_type": "display_data",
          "data": {
            "text/plain": [
              "<Figure size 640x480 with 1 Axes>"
            ],
            "image/png": "[encoded data removed]"
          },
          "metadata": {}
        }
      ]
    },
    {
      "cell_type": "markdown",
      "source": [
        "\n",
        "\n",
        "---\n",
        "\n",
        "\n",
        "# Conclusão\n",
        "\n",
        "Todas as 4 variáveis são importantes e significativas. Em ordem de significância, a variável corrente é a mais significativa e com efeito positivo alto. Logo, para maximizar a resposta, é necessário realizar o experimento com essa variável no nível alto.\n",
        "As variáveis tempo e concentração de NaCl também são importantes e possuem efeito positivo, então deve-se trabalhar com elas no nível alto.\n",
        "A variável 4 (tipo de anodo) é uma variável qualitativa, porém importante e com efeito negativo. Sua porcentagem de contribuição é de 18%, mais significativa que a variável 2. Por possui efeito negativo, deve-se trabalhar com essa variável no nível baixo, ou seja, com o anodo de IrO2.\n",
        "Após os efeitos principais, em ordem de importância, temos as interações Corrente-Anodo (efeito34) e NaCl-Anodo (efeito24). Os efeitos terciários e quartenários são insignificantes.\n",
        "\n",
        "Como o experimento não foi realizado com réplicas, não é possível estimar o erro nem modelar a regressão.\n",
        "\n",
        "O objetivo do experimento foi realizar uma triagem e observar se é possível trabalhar com menos variáveis.\n",
        "E conclui-se que não, pois todas as variáveis são importantes."
      ],
      "metadata": {
        "id": "XlDvnDoQpq_y"
      }
    }
  ]
}