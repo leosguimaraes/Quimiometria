{
  "nbformat": 4,
  "nbformat_minor": 0,
  "metadata": {
    "colab": {
      "provenance": []
    },
    "kernelspec": {
      "name": "python3",
      "display_name": "Python 3"
    },
    "language_info": {
      "name": "python"
    }
  },
  "cells": [
    {
      "cell_type": "markdown",
      "source": [
        "# Planejamento Fatorial Fracionário\n",
        "\n",
        "O experimento consiste na determinação de Arsênio (As) em pasta de camarão.\n",
        "\n",
        "O objetivo é maximizar as condições de preparação das amostras.\n",
        "\n",
        "Para determinação de As, foi utilizado Espectrometria de Absorção Atômica em forno de grafite.\n",
        "\n",
        "Variáveis estudadas:\n",
        "\n",
        "Variável 1: Volume de HNO3 (mL), 2 (-1) e 4 (+1)\n",
        "\n",
        "Variável 2: Volume de H2O2 (mL), 1 (-1) e 2 (+1)\n",
        "\n",
        "Variável 3: Massa de amostra, (g), 0,1 (-1) e 0,5 (+1)\n",
        "\n",
        "Variável 4: Potência do forno de micro-ondas (MW) (W), 600 (-1) e 1400 (+1)\n",
        "\n",
        "Variável 5: Tempo de irradiação (min), 5 (-1) e 10 (+1)\n",
        "\n",
        "Resposta avaliada: Concentração de arsênio."
      ],
      "metadata": {
        "id": "zg-3qCZZ01sW"
      }
    },
    {
      "cell_type": "code",
      "source": [
        "#Instalando a biblioteca para gerar a matriz de experimentos\n",
        "!pip install pydoe2"
      ],
      "metadata": {
        "id": "JIzuLA0Zhpkt"
      },
      "execution_count": null,
      "outputs": []
    },
    {
      "cell_type": "code",
      "execution_count": null,
      "metadata": {
        "id": "CC9XnD7jg8Er"
      },
      "outputs": [],
      "source": [
        "import numpy as np\n",
        "import pandas as pd\n",
        "import pyDOE2\n",
        "import matplotlib.pyplot as plt"
      ]
    },
    {
      "cell_type": "code",
      "source": [
        "#Matriz de experimentos codificado com 5 fatores\n",
        "matriz = pyDOE2.fracfact('a b c d abcd')"
      ],
      "metadata": {
        "id": "UpV0CL6EiXVC"
      },
      "execution_count": null,
      "outputs": []
    },
    {
      "cell_type": "code",
      "source": [
        "#Convertendo o array em dataframe\n",
        "matriz = pd.DataFrame(matriz, columns=['v1', 'v2', 'v3', 'v4', 'v5'])"
      ],
      "metadata": {
        "id": "Q5zZr-8jj0p5"
      },
      "execution_count": null,
      "outputs": []
    },
    {
      "cell_type": "code",
      "source": [
        "#Criando a coluna com a variável resposta\n",
        "resposta = pd.read_excel('/content/exp_frac.xls')\n",
        "matriz['resposta'] = resposta['R']"
      ],
      "metadata": {
        "id": "H_UAS3xs2QBJ"
      },
      "execution_count": null,
      "outputs": []
    },
    {
      "cell_type": "code",
      "source": [
        "#Visualizando a matriz codificada\n",
        "matriz"
      ],
      "metadata": {
        "colab": {
          "base_uri": "https://localhost:8080/",
          "height": 551
        },
        "id": "E8-qYrMf1xfb",
        "outputId": "8087f0f6-85e1-4578-cc6e-4251b145c25d"
      },
      "execution_count": null,
      "outputs": [
        {
          "output_type": "execute_result",
          "data": {
            "text/plain": [
              "     v1   v2   v3   v4   v5  resposta\n",
              "0  -1.0 -1.0 -1.0 -1.0  1.0      3.49\n",
              "1   1.0 -1.0 -1.0 -1.0 -1.0      3.57\n",
              "2  -1.0  1.0 -1.0 -1.0 -1.0      3.56\n",
              "3   1.0  1.0 -1.0 -1.0  1.0      3.44\n",
              "4  -1.0 -1.0  1.0 -1.0 -1.0      1.36\n",
              "5   1.0 -1.0  1.0 -1.0  1.0      1.85\n",
              "6  -1.0  1.0  1.0 -1.0  1.0      1.70\n",
              "7   1.0  1.0  1.0 -1.0 -1.0      1.33\n",
              "8  -1.0 -1.0 -1.0  1.0 -1.0      3.88\n",
              "9   1.0 -1.0 -1.0  1.0  1.0      3.68\n",
              "10 -1.0  1.0 -1.0  1.0  1.0      3.55\n",
              "11  1.0  1.0 -1.0  1.0 -1.0      4.03\n",
              "12 -1.0 -1.0  1.0  1.0  1.0      1.90\n",
              "13  1.0 -1.0  1.0  1.0 -1.0      1.81\n",
              "14 -1.0  1.0  1.0  1.0 -1.0      1.71\n",
              "15  1.0  1.0  1.0  1.0  1.0      1.69"
            ],
            "text/html": [
              "\n",
              "  <div id=\"df-e43a7faa-2347-4e7c-9fb5-503249209c2e\" class=\"colab-df-container\">\n",
              "    <div>\n",
              "<style scoped>\n",
              "    .dataframe tbody tr th:only-of-type {\n",
              "        vertical-align: middle;\n",
              "    }\n",
              "\n",
              "    .dataframe tbody tr th {\n",
              "        vertical-align: top;\n",
              "    }\n",
              "\n",
              "    .dataframe thead th {\n",
              "        text-align: right;\n",
              "    }\n",
              "</style>\n",
              "<table border=\"1\" class=\"dataframe\">\n",
              "  <thead>\n",
              "    <tr style=\"text-align: right;\">\n",
              "      <th></th>\n",
              "      <th>v1</th>\n",
              "      <th>v2</th>\n",
              "      <th>v3</th>\n",
              "      <th>v4</th>\n",
              "      <th>v5</th>\n",
              "      <th>resposta</th>\n",
              "    </tr>\n",
              "  </thead>\n",
              "  <tbody>\n",
              "    <tr>\n",
              "      <th>0</th>\n",
              "      <td>-1.0</td>\n",
              "      <td>-1.0</td>\n",
              "      <td>-1.0</td>\n",
              "      <td>-1.0</td>\n",
              "      <td>1.0</td>\n",
              "      <td>3.49</td>\n",
              "    </tr>\n",
              "    <tr>\n",
              "      <th>1</th>\n",
              "      <td>1.0</td>\n",
              "      <td>-1.0</td>\n",
              "      <td>-1.0</td>\n",
              "      <td>-1.0</td>\n",
              "      <td>-1.0</td>\n",
              "      <td>3.57</td>\n",
              "    </tr>\n",
              "    <tr>\n",
              "      <th>2</th>\n",
              "      <td>-1.0</td>\n",
              "      <td>1.0</td>\n",
              "      <td>-1.0</td>\n",
              "      <td>-1.0</td>\n",
              "      <td>-1.0</td>\n",
              "      <td>3.56</td>\n",
              "    </tr>\n",
              "    <tr>\n",
              "      <th>3</th>\n",
              "      <td>1.0</td>\n",
              "      <td>1.0</td>\n",
              "      <td>-1.0</td>\n",
              "      <td>-1.0</td>\n",
              "      <td>1.0</td>\n",
              "      <td>3.44</td>\n",
              "    </tr>\n",
              "    <tr>\n",
              "      <th>4</th>\n",
              "      <td>-1.0</td>\n",
              "      <td>-1.0</td>\n",
              "      <td>1.0</td>\n",
              "      <td>-1.0</td>\n",
              "      <td>-1.0</td>\n",
              "      <td>1.36</td>\n",
              "    </tr>\n",
              "    <tr>\n",
              "      <th>5</th>\n",
              "      <td>1.0</td>\n",
              "      <td>-1.0</td>\n",
              "      <td>1.0</td>\n",
              "      <td>-1.0</td>\n",
              "      <td>1.0</td>\n",
              "      <td>1.85</td>\n",
              "    </tr>\n",
              "    <tr>\n",
              "      <th>6</th>\n",
              "      <td>-1.0</td>\n",
              "      <td>1.0</td>\n",
              "      <td>1.0</td>\n",
              "      <td>-1.0</td>\n",
              "      <td>1.0</td>\n",
              "      <td>1.70</td>\n",
              "    </tr>\n",
              "    <tr>\n",
              "      <th>7</th>\n",
              "      <td>1.0</td>\n",
              "      <td>1.0</td>\n",
              "      <td>1.0</td>\n",
              "      <td>-1.0</td>\n",
              "      <td>-1.0</td>\n",
              "      <td>1.33</td>\n",
              "    </tr>\n",
              "    <tr>\n",
              "      <th>8</th>\n",
              "      <td>-1.0</td>\n",
              "      <td>-1.0</td>\n",
              "      <td>-1.0</td>\n",
              "      <td>1.0</td>\n",
              "      <td>-1.0</td>\n",
              "      <td>3.88</td>\n",
              "    </tr>\n",
              "    <tr>\n",
              "      <th>9</th>\n",
              "      <td>1.0</td>\n",
              "      <td>-1.0</td>\n",
              "      <td>-1.0</td>\n",
              "      <td>1.0</td>\n",
              "      <td>1.0</td>\n",
              "      <td>3.68</td>\n",
              "    </tr>\n",
              "    <tr>\n",
              "      <th>10</th>\n",
              "      <td>-1.0</td>\n",
              "      <td>1.0</td>\n",
              "      <td>-1.0</td>\n",
              "      <td>1.0</td>\n",
              "      <td>1.0</td>\n",
              "      <td>3.55</td>\n",
              "    </tr>\n",
              "    <tr>\n",
              "      <th>11</th>\n",
              "      <td>1.0</td>\n",
              "      <td>1.0</td>\n",
              "      <td>-1.0</td>\n",
              "      <td>1.0</td>\n",
              "      <td>-1.0</td>\n",
              "      <td>4.03</td>\n",
              "    </tr>\n",
              "    <tr>\n",
              "      <th>12</th>\n",
              "      <td>-1.0</td>\n",
              "      <td>-1.0</td>\n",
              "      <td>1.0</td>\n",
              "      <td>1.0</td>\n",
              "      <td>1.0</td>\n",
              "      <td>1.90</td>\n",
              "    </tr>\n",
              "    <tr>\n",
              "      <th>13</th>\n",
              "      <td>1.0</td>\n",
              "      <td>-1.0</td>\n",
              "      <td>1.0</td>\n",
              "      <td>1.0</td>\n",
              "      <td>-1.0</td>\n",
              "      <td>1.81</td>\n",
              "    </tr>\n",
              "    <tr>\n",
              "      <th>14</th>\n",
              "      <td>-1.0</td>\n",
              "      <td>1.0</td>\n",
              "      <td>1.0</td>\n",
              "      <td>1.0</td>\n",
              "      <td>-1.0</td>\n",
              "      <td>1.71</td>\n",
              "    </tr>\n",
              "    <tr>\n",
              "      <th>15</th>\n",
              "      <td>1.0</td>\n",
              "      <td>1.0</td>\n",
              "      <td>1.0</td>\n",
              "      <td>1.0</td>\n",
              "      <td>1.0</td>\n",
              "      <td>1.69</td>\n",
              "    </tr>\n",
              "  </tbody>\n",
              "</table>\n",
              "</div>\n",
              "    <div class=\"colab-df-buttons\">\n",
              "\n",
              "  <div class=\"colab-df-container\">\n",
              "    <button class=\"colab-df-convert\" onclick=\"convertToInteractive('df-e43a7faa-2347-4e7c-9fb5-503249209c2e')\"\n",
              "            title=\"Convert this dataframe to an interactive table.\"\n",
              "            style=\"display:none;\">\n",
              "\n",
              "  <svg xmlns=\"http://www.w3.org/2000/svg\" height=\"24px\" viewBox=\"0 -960 960 960\">\n",
              "    <path d=\"M120-120v-720h720v720H120Zm60-500h600v-160H180v160Zm220 220h160v-160H400v160Zm0 220h160v-160H400v160ZM180-400h160v-160H180v160Zm440 0h160v-160H620v160ZM180-180h160v-160H180v160Zm440 0h160v-160H620v160Z\"/>\n",
              "  </svg>\n",
              "    </button>\n",
              "\n",
              "  <style>\n",
              "    .colab-df-container {\n",
              "      display:flex;\n",
              "      gap: 12px;\n",
              "    }\n",
              "\n",
              "    .colab-df-convert {\n",
              "      background-color: #E8F0FE;\n",
              "      border: none;\n",
              "      border-radius: 50%;\n",
              "      cursor: pointer;\n",
              "      display: none;\n",
              "      fill: #1967D2;\n",
              "      height: 32px;\n",
              "      padding: 0 0 0 0;\n",
              "      width: 32px;\n",
              "    }\n",
              "\n",
              "    .colab-df-convert:hover {\n",
              "      background-color: #E2EBFA;\n",
              "      box-shadow: 0px 1px 2px rgba(60, 64, 67, 0.3), 0px 1px 3px 1px rgba(60, 64, 67, 0.15);\n",
              "      fill: #174EA6;\n",
              "    }\n",
              "\n",
              "    .colab-df-buttons div {\n",
              "      margin-bottom: 4px;\n",
              "    }\n",
              "\n",
              "    [theme=dark] .colab-df-convert {\n",
              "      background-color: #3B4455;\n",
              "      fill: #D2E3FC;\n",
              "    }\n",
              "\n",
              "    [theme=dark] .colab-df-convert:hover {\n",
              "      background-color: #434B5C;\n",
              "      box-shadow: 0px 1px 3px 1px rgba(0, 0, 0, 0.15);\n",
              "      filter: drop-shadow(0px 1px 2px rgba(0, 0, 0, 0.3));\n",
              "      fill: #FFFFFF;\n",
              "    }\n",
              "  </style>\n",
              "\n",
              "    <script>\n",
              "      const buttonEl =\n",
              "        document.querySelector('#df-e43a7faa-2347-4e7c-9fb5-503249209c2e button.colab-df-convert');\n",
              "      buttonEl.style.display =\n",
              "        google.colab.kernel.accessAllowed ? 'block' : 'none';\n",
              "\n",
              "      async function convertToInteractive(key) {\n",
              "        const element = document.querySelector('#df-e43a7faa-2347-4e7c-9fb5-503249209c2e');\n",
              "        const dataTable =\n",
              "          await google.colab.kernel.invokeFunction('convertToInteractive',\n",
              "                                                    [key], {});\n",
              "        if (!dataTable) return;\n",
              "\n",
              "        const docLinkHtml = 'Like what you see? Visit the ' +\n",
              "          '<a target=\"_blank\" href=https://colab.research.google.com/notebooks/data_table.ipynb>data table notebook</a>'\n",
              "          + ' to learn more about interactive tables.';\n",
              "        element.innerHTML = '';\n",
              "        dataTable['output_type'] = 'display_data';\n",
              "        await google.colab.output.renderOutput(dataTable, element);\n",
              "        const docLink = document.createElement('div');\n",
              "        docLink.innerHTML = docLinkHtml;\n",
              "        element.appendChild(docLink);\n",
              "      }\n",
              "    </script>\n",
              "  </div>\n",
              "\n",
              "\n",
              "<div id=\"df-f5187642-04dc-44cb-8be8-f92890cc8814\">\n",
              "  <button class=\"colab-df-quickchart\" onclick=\"quickchart('df-f5187642-04dc-44cb-8be8-f92890cc8814')\"\n",
              "            title=\"Suggest charts\"\n",
              "            style=\"display:none;\">\n",
              "\n",
              "<svg xmlns=\"http://www.w3.org/2000/svg\" height=\"24px\"viewBox=\"0 0 24 24\"\n",
              "     width=\"24px\">\n",
              "    <g>\n",
              "        <path d=\"M19 3H5c-1.1 0-2 .9-2 2v14c0 1.1.9 2 2 2h14c1.1 0 2-.9 2-2V5c0-1.1-.9-2-2-2zM9 17H7v-7h2v7zm4 0h-2V7h2v10zm4 0h-2v-4h2v4z\"/>\n",
              "    </g>\n",
              "</svg>\n",
              "  </button>\n",
              "\n",
              "<style>\n",
              "  .colab-df-quickchart {\n",
              "      --bg-color: #E8F0FE;\n",
              "      --fill-color: #1967D2;\n",
              "      --hover-bg-color: #E2EBFA;\n",
              "      --hover-fill-color: #174EA6;\n",
              "      --disabled-fill-color: #AAA;\n",
              "      --disabled-bg-color: #DDD;\n",
              "  }\n",
              "\n",
              "  [theme=dark] .colab-df-quickchart {\n",
              "      --bg-color: #3B4455;\n",
              "      --fill-color: #D2E3FC;\n",
              "      --hover-bg-color: #434B5C;\n",
              "      --hover-fill-color: #FFFFFF;\n",
              "      --disabled-bg-color: #3B4455;\n",
              "      --disabled-fill-color: #666;\n",
              "  }\n",
              "\n",
              "  .colab-df-quickchart {\n",
              "    background-color: var(--bg-color);\n",
              "    border: none;\n",
              "    border-radius: 50%;\n",
              "    cursor: pointer;\n",
              "    display: none;\n",
              "    fill: var(--fill-color);\n",
              "    height: 32px;\n",
              "    padding: 0;\n",
              "    width: 32px;\n",
              "  }\n",
              "\n",
              "  .colab-df-quickchart:hover {\n",
              "    background-color: var(--hover-bg-color);\n",
              "    box-shadow: 0 1px 2px rgba(60, 64, 67, 0.3), 0 1px 3px 1px rgba(60, 64, 67, 0.15);\n",
              "    fill: var(--button-hover-fill-color);\n",
              "  }\n",
              "\n",
              "  .colab-df-quickchart-complete:disabled,\n",
              "  .colab-df-quickchart-complete:disabled:hover {\n",
              "    background-color: var(--disabled-bg-color);\n",
              "    fill: var(--disabled-fill-color);\n",
              "    box-shadow: none;\n",
              "  }\n",
              "\n",
              "  .colab-df-spinner {\n",
              "    border: 2px solid var(--fill-color);\n",
              "    border-color: transparent;\n",
              "    border-bottom-color: var(--fill-color);\n",
              "    animation:\n",
              "      spin 1s steps(1) infinite;\n",
              "  }\n",
              "\n",
              "  @keyframes spin {\n",
              "    0% {\n",
              "      border-color: transparent;\n",
              "      border-bottom-color: var(--fill-color);\n",
              "      border-left-color: var(--fill-color);\n",
              "    }\n",
              "    20% {\n",
              "      border-color: transparent;\n",
              "      border-left-color: var(--fill-color);\n",
              "      border-top-color: var(--fill-color);\n",
              "    }\n",
              "    30% {\n",
              "      border-color: transparent;\n",
              "      border-left-color: var(--fill-color);\n",
              "      border-top-color: var(--fill-color);\n",
              "      border-right-color: var(--fill-color);\n",
              "    }\n",
              "    40% {\n",
              "      border-color: transparent;\n",
              "      border-right-color: var(--fill-color);\n",
              "      border-top-color: var(--fill-color);\n",
              "    }\n",
              "    60% {\n",
              "      border-color: transparent;\n",
              "      border-right-color: var(--fill-color);\n",
              "    }\n",
              "    80% {\n",
              "      border-color: transparent;\n",
              "      border-right-color: var(--fill-color);\n",
              "      border-bottom-color: var(--fill-color);\n",
              "    }\n",
              "    90% {\n",
              "      border-color: transparent;\n",
              "      border-bottom-color: var(--fill-color);\n",
              "    }\n",
              "  }\n",
              "</style>\n",
              "\n",
              "  <script>\n",
              "    async function quickchart(key) {\n",
              "      const quickchartButtonEl =\n",
              "        document.querySelector('#' + key + ' button');\n",
              "      quickchartButtonEl.disabled = true;  // To prevent multiple clicks.\n",
              "      quickchartButtonEl.classList.add('colab-df-spinner');\n",
              "      try {\n",
              "        const charts = await google.colab.kernel.invokeFunction(\n",
              "            'suggestCharts', [key], {});\n",
              "      } catch (error) {\n",
              "        console.error('Error during call to suggestCharts:', error);\n",
              "      }\n",
              "      quickchartButtonEl.classList.remove('colab-df-spinner');\n",
              "      quickchartButtonEl.classList.add('colab-df-quickchart-complete');\n",
              "    }\n",
              "    (() => {\n",
              "      let quickchartButtonEl =\n",
              "        document.querySelector('#df-f5187642-04dc-44cb-8be8-f92890cc8814 button');\n",
              "      quickchartButtonEl.style.display =\n",
              "        google.colab.kernel.accessAllowed ? 'block' : 'none';\n",
              "    })();\n",
              "  </script>\n",
              "</div>\n",
              "\n",
              "  <div id=\"id_f74b5b6b-889f-4c88-9577-fd564340ca1d\">\n",
              "    <style>\n",
              "      .colab-df-generate {\n",
              "        background-color: #E8F0FE;\n",
              "        border: none;\n",
              "        border-radius: 50%;\n",
              "        cursor: pointer;\n",
              "        display: none;\n",
              "        fill: #1967D2;\n",
              "        height: 32px;\n",
              "        padding: 0 0 0 0;\n",
              "        width: 32px;\n",
              "      }\n",
              "\n",
              "      .colab-df-generate:hover {\n",
              "        background-color: #E2EBFA;\n",
              "        box-shadow: 0px 1px 2px rgba(60, 64, 67, 0.3), 0px 1px 3px 1px rgba(60, 64, 67, 0.15);\n",
              "        fill: #174EA6;\n",
              "      }\n",
              "\n",
              "      [theme=dark] .colab-df-generate {\n",
              "        background-color: #3B4455;\n",
              "        fill: #D2E3FC;\n",
              "      }\n",
              "\n",
              "      [theme=dark] .colab-df-generate:hover {\n",
              "        background-color: #434B5C;\n",
              "        box-shadow: 0px 1px 3px 1px rgba(0, 0, 0, 0.15);\n",
              "        filter: drop-shadow(0px 1px 2px rgba(0, 0, 0, 0.3));\n",
              "        fill: #FFFFFF;\n",
              "      }\n",
              "    </style>\n",
              "    <button class=\"colab-df-generate\" onclick=\"generateWithVariable('matriz')\"\n",
              "            title=\"Generate code using this dataframe.\"\n",
              "            style=\"display:none;\">\n",
              "\n",
              "  <svg xmlns=\"http://www.w3.org/2000/svg\" height=\"24px\"viewBox=\"0 0 24 24\"\n",
              "       width=\"24px\">\n",
              "    <path d=\"M7,19H8.4L18.45,9,17,7.55,7,17.6ZM5,21V16.75L18.45,3.32a2,2,0,0,1,2.83,0l1.4,1.43a1.91,1.91,0,0,1,.58,1.4,1.91,1.91,0,0,1-.58,1.4L9.25,21ZM18.45,9,17,7.55Zm-12,3A5.31,5.31,0,0,0,4.9,8.1,5.31,5.31,0,0,0,1,6.5,5.31,5.31,0,0,0,4.9,4.9,5.31,5.31,0,0,0,6.5,1,5.31,5.31,0,0,0,8.1,4.9,5.31,5.31,0,0,0,12,6.5,5.46,5.46,0,0,0,6.5,12Z\"/>\n",
              "  </svg>\n",
              "    </button>\n",
              "    <script>\n",
              "      (() => {\n",
              "      const buttonEl =\n",
              "        document.querySelector('#id_f74b5b6b-889f-4c88-9577-fd564340ca1d button.colab-df-generate');\n",
              "      buttonEl.style.display =\n",
              "        google.colab.kernel.accessAllowed ? 'block' : 'none';\n",
              "\n",
              "      buttonEl.onclick = () => {\n",
              "        google.colab.notebook.generateWithVariable('matriz');\n",
              "      }\n",
              "      })();\n",
              "    </script>\n",
              "  </div>\n",
              "\n",
              "    </div>\n",
              "  </div>\n"
            ],
            "application/vnd.google.colaboratory.intrinsic+json": {
              "type": "dataframe",
              "variable_name": "matriz",
              "summary": "{\n  \"name\": \"matriz\",\n  \"rows\": 16,\n  \"fields\": [\n    {\n      \"column\": \"v1\",\n      \"properties\": {\n        \"dtype\": \"number\",\n        \"std\": 1.0327955589886444,\n        \"min\": -1.0,\n        \"max\": 1.0,\n        \"num_unique_values\": 2,\n        \"samples\": [\n          1.0,\n          -1.0\n        ],\n        \"semantic_type\": \"\",\n        \"description\": \"\"\n      }\n    },\n    {\n      \"column\": \"v2\",\n      \"properties\": {\n        \"dtype\": \"number\",\n        \"std\": 1.0327955589886444,\n        \"min\": -1.0,\n        \"max\": 1.0,\n        \"num_unique_values\": 2,\n        \"samples\": [\n          1.0,\n          -1.0\n        ],\n        \"semantic_type\": \"\",\n        \"description\": \"\"\n      }\n    },\n    {\n      \"column\": \"v3\",\n      \"properties\": {\n        \"dtype\": \"number\",\n        \"std\": 1.0327955589886444,\n        \"min\": -1.0,\n        \"max\": 1.0,\n        \"num_unique_values\": 2,\n        \"samples\": [\n          1.0,\n          -1.0\n        ],\n        \"semantic_type\": \"\",\n        \"description\": \"\"\n      }\n    },\n    {\n      \"column\": \"v4\",\n      \"properties\": {\n        \"dtype\": \"number\",\n        \"std\": 1.0327955589886444,\n        \"min\": -1.0,\n        \"max\": 1.0,\n        \"num_unique_values\": 2,\n        \"samples\": [\n          1.0,\n          -1.0\n        ],\n        \"semantic_type\": \"\",\n        \"description\": \"\"\n      }\n    },\n    {\n      \"column\": \"v5\",\n      \"properties\": {\n        \"dtype\": \"number\",\n        \"std\": 1.0327955589886444,\n        \"min\": -1.0,\n        \"max\": 1.0,\n        \"num_unique_values\": 2,\n        \"samples\": [\n          -1.0,\n          1.0\n        ],\n        \"semantic_type\": \"\",\n        \"description\": \"\"\n      }\n    },\n    {\n      \"column\": \"resposta\",\n      \"properties\": {\n        \"dtype\": \"number\",\n        \"std\": 1.0428580520217825,\n        \"min\": 1.33,\n        \"max\": 4.03,\n        \"num_unique_values\": 16,\n        \"samples\": [\n          3.49,\n          3.57\n        ],\n        \"semantic_type\": \"\",\n        \"description\": \"\"\n      }\n    }\n  ]\n}"
            }
          },
          "metadata": {},
          "execution_count": 123
        }
      ]
    },
    {
      "cell_type": "markdown",
      "source": [
        "\n",
        "\n",
        "---\n",
        "\n",
        "\n",
        "# Padrão de Confundimento\n",
        "\n",
        "Possuímos 5 variáveis, onde a quinta é a interação entre as 4 primeiras.\n",
        "A geratriz de experimentos é a interação de 5 ordem, 12345.\n",
        "\n",
        "Os efeitos primários estão confundidos da seguinte forma:\n",
        "\n",
        "* O efeito 1 está confundido com a interação 2345.\n",
        "* O efeito 2 está confundido com a interação 1345.\n",
        "* O efeito 3 está confundido com a interação 1245.\n",
        "* O efeito 4 está confundido com a interação 1235.\n",
        "* O efeito 5 está confundido com a interação 1234.\n",
        "\n",
        "Como podemos ver, os efeitos primários estão confundidos com os efeitos quaternários.\n",
        "\n",
        "Os efeitos secundários estão confundidos da seguinte forma:\n",
        "\n",
        "* O efeito 12 está confundido com a interação 345.\n",
        "* O efeito 13 está confundido com a interação 245.\n",
        "* O efeito 14 está confundido com a interação 235.\n",
        "* O efeito 15 está confundido com a interação 234.\n",
        "* O efeito 23 está confundido com a interação 145.\n",
        "* O efeito 24 está confundido com a interação 135.\n",
        "* O efeito 25 está confundido com a interação 134.\n",
        "* O efeito 34 está confundido com a interação 125.\n",
        "* O efeito 35 está confundido com a interação 124.\n",
        "* O efeito 45 está confundido com a interação 123.\n",
        "\n",
        "Como podemos ver, os efeitos secundários estão confundidos os efeitos terciários.\n",
        "\n",
        "Portanto, somente precisamos analisar os efeitos primários e secundários.\n",
        "\n",
        "---"
      ],
      "metadata": {
        "id": "0GjLBYMi4Ctr"
      }
    },
    {
      "cell_type": "markdown",
      "source": [
        "# Adicionando efeitos primários"
      ],
      "metadata": {
        "id": "sfVo-Y-l5em5"
      }
    },
    {
      "cell_type": "code",
      "source": [
        "#Criando variáveis para cada efeito primário\n",
        "\n",
        "efeito1 = matriz['v1'] * matriz['resposta']\n",
        "efeito2 = matriz['v2'] * matriz['resposta']\n",
        "efeito3 = matriz['v3'] * matriz['resposta']\n",
        "efeito4 = matriz['v4'] * matriz['resposta']\n",
        "efeito5 = matriz['v5'] * matriz['resposta']\n",
        "\n",
        "efeitos_primarios = [efeito1, efeito2, efeito3, efeito4, efeito5]\n",
        "\n",
        "efeitos_1 = pd.concat(efeitos_primarios, axis=1)\n",
        "efeitos_1.columns = ['efeito1', 'efeito2', 'efeito3', 'efeito4', 'efeitos5']"
      ],
      "metadata": {
        "id": "MXobC_MRmGMQ"
      },
      "execution_count": null,
      "outputs": []
    },
    {
      "cell_type": "code",
      "source": [
        "matriz = pd.concat([matriz, efeitos_1], axis=1)"
      ],
      "metadata": {
        "id": "WVmUfcbrm2aG"
      },
      "execution_count": null,
      "outputs": []
    },
    {
      "cell_type": "markdown",
      "source": [
        "# Adicionando os efeitos secundários\n",
        "\n"
      ],
      "metadata": {
        "id": "xQZKQmT0rPRG"
      }
    },
    {
      "cell_type": "code",
      "source": [
        "#Criando variáveis para cada efeito secundário\n",
        "\n",
        "efeito12 = matriz['v1'] * matriz['v2'] * matriz['resposta']\n",
        "efeito13 = matriz['v1'] * matriz['v3'] * matriz['resposta']\n",
        "efeito14 = matriz['v1'] * matriz['v4'] * matriz['resposta']\n",
        "efeito15 = matriz['v1'] * matriz['v5'] * matriz['resposta']\n",
        "efeito23 = matriz['v2'] * matriz['v3'] * matriz['resposta']\n",
        "efeito24 = matriz['v2'] * matriz['v4'] * matriz['resposta']\n",
        "efeito25 = matriz['v2'] * matriz['v5'] * matriz['resposta']\n",
        "efeito34 = matriz['v3'] * matriz['v4'] * matriz['resposta']\n",
        "efeito35 = matriz['v3'] * matriz['v5'] * matriz['resposta']\n",
        "efeito45 = matriz['v4'] * matriz['v5'] * matriz['resposta']\n",
        "\n",
        "efeitos_secundarios = [efeito12, efeito13, efeito14, efeito15, efeito23, efeito24, efeito25, efeito34, efeito35, efeito45]\n",
        "\n",
        "efeitos_2 = pd.concat(efeitos_secundarios, axis=1)\n",
        "efeitos_2.columns = ['efeito12', 'efeito13', 'efeito14', 'efeito15', 'efeito23', 'efeito24', 'efeito25', 'efeito34', 'efeito35', 'efeito45']"
      ],
      "metadata": {
        "id": "r69HiVD4rb50"
      },
      "execution_count": null,
      "outputs": []
    },
    {
      "cell_type": "code",
      "source": [
        "matriz = pd.concat([matriz, efeitos_2], axis=1)"
      ],
      "metadata": {
        "id": "ibcznAI9sm16"
      },
      "execution_count": null,
      "outputs": []
    },
    {
      "cell_type": "markdown",
      "source": [
        "# Calculando os efeitos"
      ],
      "metadata": {
        "id": "HSQrHxne0d9U"
      }
    },
    {
      "cell_type": "code",
      "source": [
        "soma = matriz.iloc[:, 6:].sum()\n",
        "efeitos_brutos = soma / 7.5"
      ],
      "metadata": {
        "id": "GWqwdZztu788"
      },
      "execution_count": null,
      "outputs": []
    },
    {
      "cell_type": "code",
      "source": [
        "#Ordenando os efeitos\n",
        "\n",
        "efeitos_brutos = efeitos_brutos.sort_values(ascending=True)"
      ],
      "metadata": {
        "id": "9GVGpHbvSk-v"
      },
      "execution_count": null,
      "outputs": []
    },
    {
      "cell_type": "code",
      "source": [
        "#Efeitos primários e demais interações\n",
        "efeitos_brutos"
      ],
      "metadata": {
        "colab": {
          "base_uri": "https://localhost:8080/"
        },
        "id": "nlYS_hhny7NY",
        "outputId": "ded8c72f-a5e2-490f-a1fe-9d7a415b31e7"
      },
      "execution_count": null,
      "outputs": [
        {
          "output_type": "execute_result",
          "data": {
            "text/plain": [
              "efeito3    -2.113333\n",
              "efeito45   -0.169333\n",
              "efeito25   -0.073333\n",
              "efeito2    -0.070667\n",
              "efeito23   -0.060000\n",
              "efeito12   -0.041333\n",
              "efeito13   -0.030667\n",
              "efeito34   -0.028000\n",
              "efeito15   -0.028000\n",
              "efeito24   -0.006667\n",
              "efeitos5    0.006667\n",
              "efeito14    0.012000\n",
              "efeito1     0.033333\n",
              "efeito35    0.241333\n",
              "efeito4     0.260000\n",
              "dtype: float64"
            ]
          },
          "metadata": {},
          "execution_count": 130
        }
      ]
    },
    {
      "cell_type": "markdown",
      "source": [
        "# Gráfico de efeito de cada variável e interação"
      ],
      "metadata": {
        "id": "honKQm624LXZ"
      }
    },
    {
      "cell_type": "code",
      "source": [
        "#Gráfico dos efeitos brutos e as interações de 1 e 2° ordem.\n",
        "efeitos_brutos.plot(kind='bar')\n",
        "for i, valor in enumerate(efeitos_brutos):\n",
        "    plt.text(i, valor, int(valor), ha='center', va='bottom')\n",
        "\n",
        "plt.xlabel('Efeitos')\n",
        "plt.ylabel('Magnitude')\n",
        "plt.title('Magnitude dos Efeitos')\n",
        "plt.xticks(rotation=45)\n",
        "plt.show()"
      ],
      "metadata": {
        "colab": {
          "base_uri": "https://localhost:8080/",
          "height": 508
        },
        "id": "leKMXSdE4PAL",
        "outputId": "bceadefd-066b-4d02-e132-7410e6a122a0"
      },
      "execution_count": null,
      "outputs": [
        {
          "output_type": "display_data",
          "data": {
            "text/plain": [
              "<Figure size 640x480 with 1 Axes>"
            ],
            "image/png": "[encoded data removed]"
          },
          "metadata": {}
        }
      ]
    },
    {
      "cell_type": "markdown",
      "source": [
        "# Calculando a porcentagem de cada efeito"
      ],
      "metadata": {
        "id": "e1hkiaaA0MWm"
      }
    },
    {
      "cell_type": "code",
      "source": [
        "#Elevando os efeitos ao quadrado para retirar o sinal negativo\n",
        "quadrado_efeitos = efeitos_brutos ** 2"
      ],
      "metadata": {
        "id": "SOHpLbV00P7j"
      },
      "execution_count": null,
      "outputs": []
    },
    {
      "cell_type": "code",
      "source": [
        "#Somando todos os efeitos\n",
        "soma_efeitos = quadrado_efeitos.sum()"
      ],
      "metadata": {
        "id": "S0FGGxCf0XJ4"
      },
      "execution_count": null,
      "outputs": []
    },
    {
      "cell_type": "code",
      "source": [
        "# Definindo a porcentagem de cada efeito\n",
        "porcentagens = (quadrado_efeitos / soma_efeitos) * 100"
      ],
      "metadata": {
        "id": "Wg1CTgzWxdd1"
      },
      "execution_count": null,
      "outputs": []
    },
    {
      "cell_type": "code",
      "source": [
        "#Colocando as porcentagens em ordem crescente\n",
        "porcentagens = porcentagens.sort_values(ascending=True)"
      ],
      "metadata": {
        "id": "lL02DANC0xx2"
      },
      "execution_count": null,
      "outputs": []
    },
    {
      "cell_type": "code",
      "source": [
        "porcentagens"
      ],
      "metadata": {
        "colab": {
          "base_uri": "https://localhost:8080/"
        },
        "id": "1Ex3PHuVpudQ",
        "outputId": "4161a9c6-3729-494b-d647-0faa534d7e7b"
      },
      "execution_count": null,
      "outputs": [
        {
          "output_type": "execute_result",
          "data": {
            "text/plain": [
              "efeito24     0.000958\n",
              "efeitos5     0.000958\n",
              "efeito14     0.003103\n",
              "efeito15     0.016896\n",
              "efeito34     0.016896\n",
              "efeito13     0.020267\n",
              "efeito1      0.023945\n",
              "efeito12     0.036818\n",
              "efeito23     0.077582\n",
              "efeito2      0.107619\n",
              "efeito25     0.115895\n",
              "efeito45     0.617939\n",
              "efeito35     1.255150\n",
              "efeito4      1.456826\n",
              "efeito3     96.249148\n",
              "dtype: float64"
            ]
          },
          "metadata": {},
          "execution_count": 136
        }
      ]
    },
    {
      "cell_type": "markdown",
      "source": [
        "# Calculando a área da curva e z score para o gráfico de probabilidade dos efeitos"
      ],
      "metadata": {
        "id": "byZ4Mw300jJK"
      }
    },
    {
      "cell_type": "code",
      "source": [
        "#Definindo uma curva com 15 partes\n",
        "zero = 0\n",
        "incremento = 1/15\n",
        "elementos = 15\n",
        "\n",
        "inicio = [zero + i * incremento for i in range(elementos)]"
      ],
      "metadata": {
        "id": "xSW8Wqhr8wG9"
      },
      "execution_count": null,
      "outputs": []
    },
    {
      "cell_type": "code",
      "source": [
        "#Sequência númerica de 15\n",
        "seq = list(range(1, 16))\n",
        "\n",
        "final = [num/7 for num in seq]"
      ],
      "metadata": {
        "id": "0SeptSEx5jkG"
      },
      "execution_count": null,
      "outputs": []
    },
    {
      "cell_type": "code",
      "source": [
        "# Somando as listas para poder gerar a média\n",
        "soma_listas = [x + y for x, y in zip(inicio, final)]"
      ],
      "metadata": {
        "id": "3EWw90m29JYc"
      },
      "execution_count": null,
      "outputs": []
    },
    {
      "cell_type": "code",
      "source": [
        "# Média das listas que representa a probabilidade debaixo da curva\n",
        "ponto_central = [i /2 for i in soma_listas]"
      ],
      "metadata": {
        "id": "H4Ov4ctp-XJi"
      },
      "execution_count": null,
      "outputs": []
    },
    {
      "cell_type": "code",
      "source": [
        "#Calculando a média e desvio padrão\n",
        "media = np.mean(ponto_central)\n",
        "std = np.std(ponto_central)"
      ],
      "metadata": {
        "id": "x01x7Ne8Wjq9"
      },
      "execution_count": null,
      "outputs": []
    },
    {
      "cell_type": "code",
      "source": [
        "#Calculando o z score\n",
        "z = np.round([(i - media) / std for i in ponto_central], decimals=3)"
      ],
      "metadata": {
        "id": "I5bjaWOsWzXC"
      },
      "execution_count": null,
      "outputs": []
    },
    {
      "cell_type": "markdown",
      "source": [
        "# Gráfico de porcentagem de contribuição dos efeitos e de probabilidade"
      ],
      "metadata": {
        "id": "hDwCDY_wTQDl"
      }
    },
    {
      "cell_type": "code",
      "source": [
        "# Gráfico de contribuição efetiva\n",
        "\n",
        "porcentagens.plot(kind='bar', color='g')\n",
        "for i, valor in enumerate(porcentagens):\n",
        "  plt.text(i, valor, np.float32(round(valor, 2)), ha='center', va='bottom')\n",
        "plt.xlabel('Efeitos')\n",
        "plt.ylabel('%')\n",
        "plt.xticks(rotation=45)\n",
        "plt.title('% de contribuição dos efeitos')\n",
        "plt.show()\n",
        "\n"
      ],
      "metadata": {
        "colab": {
          "base_uri": "https://localhost:8080/",
          "height": 508
        },
        "id": "MByAkAwx2ESe",
        "outputId": "b785c01e-dad3-49b5-8fc3-cb253ba533ba"
      },
      "execution_count": null,
      "outputs": [
        {
          "output_type": "display_data",
          "data": {
            "text/plain": [
              "<Figure size 640x480 with 1 Axes>"
            ],
            "image/png": "[encoded data removed]"
          },
          "metadata": {}
        }
      ]
    },
    {
      "cell_type": "code",
      "source": [
        "# Gráfico de probabilidades\n",
        "import seaborn as sns\n",
        "\n",
        "prob = sns.scatterplot(x=efeitos_brutos.values, y=z, hue=efeitos_brutos.index, s=100)\n",
        "prob.set_title('Gráfico de Probabilidade')\n",
        "prob.set_xlabel('Efeitos')\n",
        "plt.xticks(fontsize=16)\n",
        "plt.yticks(fontsize=16)\n",
        "prob.set_ylabel('Z')\n",
        "plt.legend(fontsize='small',  loc='lower left', bbox_to_anchor=(1, 0.4));"
      ],
      "metadata": {
        "colab": {
          "base_uri": "https://localhost:8080/",
          "height": 525
        },
        "id": "1KBxDmOmDq8Q",
        "outputId": "3be4e061-62e5-4ddd-dfda-eec6a27e54eb"
      },
      "execution_count": null,
      "outputs": [
        {
          "output_type": "display_data",
          "data": {
            "text/plain": [
              "<Figure size 640x480 with 1 Axes>"
            ],
            "image/png": "[encoded data removed]"
          },
          "metadata": {}
        }
      ]
    },
    {
      "cell_type": "code",
      "source": [
        "efeitos_brutos"
      ],
      "metadata": {
        "colab": {
          "base_uri": "https://localhost:8080/"
        },
        "id": "198W65RaBhh6",
        "outputId": "97f9d4f4-7a6b-45fc-81c6-83b41ad8afd7"
      },
      "execution_count": null,
      "outputs": [
        {
          "output_type": "execute_result",
          "data": {
            "text/plain": [
              "efeito3    -2.113333\n",
              "efeito45   -0.169333\n",
              "efeito25   -0.073333\n",
              "efeito2    -0.070667\n",
              "efeito23   -0.060000\n",
              "efeito12   -0.041333\n",
              "efeito13   -0.030667\n",
              "efeito34   -0.028000\n",
              "efeito15   -0.028000\n",
              "efeito24   -0.006667\n",
              "efeitos5    0.006667\n",
              "efeito14    0.012000\n",
              "efeito1     0.033333\n",
              "efeito35    0.241333\n",
              "efeito4     0.260000\n",
              "dtype: float64"
            ]
          },
          "metadata": {},
          "execution_count": 145
        }
      ]
    },
    {
      "cell_type": "markdown",
      "source": [
        "# Refinando o experimento com a inserção de réplicas\n",
        "\n",
        "Observando o gráfico de contribuição de efeitos e de probabilidade, percebemos que os que mais contribuem são, as variáveis 3, 4, o efeito 35 e o 45. Como efeito 45 tem uma leve consideração, então no refinamento entra também a variável 5.\n",
        "\n",
        "Excluindo a variável 1 e 2, ficamos com um fatorial 2 k=3, com 8 experimentos.\n",
        "\n"
      ],
      "metadata": {
        "id": "PZrdCOLQrKjp"
      }
    },
    {
      "cell_type": "code",
      "source": [
        "matriz2 = matriz[['v3', 'v4', 'v5']]"
      ],
      "metadata": {
        "id": "L_TAWdvtsC2o"
      },
      "execution_count": null,
      "outputs": []
    },
    {
      "cell_type": "code",
      "source": [
        "matriz2['resposta'] = resposta['R']"
      ],
      "metadata": {
        "id": "wH3LsCQasiU4"
      },
      "execution_count": null,
      "outputs": []
    },
    {
      "cell_type": "markdown",
      "source": [
        "* Reorganizando os experimentos, percebemos que possuímos 3 réplicas para cada experimento. Com isso, podemos calcular a média e a variância entre as réplicas, assim como a média das variâncias e podemos estimar o erro do efeito."
      ],
      "metadata": {
        "id": "JoOXFCG1sYBh"
      }
    },
    {
      "cell_type": "code",
      "source": [
        "matriz_grouped = matriz2.pivot_table(index=['v3', 'v4', 'v5'], columns=matriz.groupby(['v3', 'v4', 'v5']).cumcount().add(1), values='resposta').reset_index()\n",
        "\n",
        "# Renomeando as colunas\n",
        "matriz_grouped.columns.name = None  # Removendo o nome das colunas\n",
        "matriz_grouped.columns = ['v3', 'v4', 'v5', 'r1', 'r2']  # Renomeando as colunas\n"
      ],
      "metadata": {
        "id": "Trk48aSftR7U"
      },
      "execution_count": null,
      "outputs": []
    },
    {
      "cell_type": "code",
      "source": [
        "matriz_grouped"
      ],
      "metadata": {
        "colab": {
          "base_uri": "https://localhost:8080/",
          "height": 300
        },
        "id": "kUSVOjyavv0c",
        "outputId": "7adbfa19-7445-4410-96b8-b27f55721886"
      },
      "execution_count": null,
      "outputs": [
        {
          "output_type": "execute_result",
          "data": {
            "text/plain": [
              "    v3   v4   v5    r1    r2\n",
              "0 -1.0 -1.0 -1.0  3.57  3.56\n",
              "1 -1.0 -1.0  1.0  3.49  3.44\n",
              "2 -1.0  1.0 -1.0  3.88  4.03\n",
              "3 -1.0  1.0  1.0  3.68  3.55\n",
              "4  1.0 -1.0 -1.0  1.36  1.33\n",
              "5  1.0 -1.0  1.0  1.85  1.70\n",
              "6  1.0  1.0 -1.0  1.81  1.71\n",
              "7  1.0  1.0  1.0  1.90  1.69"
            ],
            "text/html": [
              "\n",
              "  <div id=\"df-aedf49a0-c1e4-4003-9d22-4e8068315c51\" class=\"colab-df-container\">\n",
              "    <div>\n",
              "<style scoped>\n",
              "    .dataframe tbody tr th:only-of-type {\n",
              "        vertical-align: middle;\n",
              "    }\n",
              "\n",
              "    .dataframe tbody tr th {\n",
              "        vertical-align: top;\n",
              "    }\n",
              "\n",
              "    .dataframe thead th {\n",
              "        text-align: right;\n",
              "    }\n",
              "</style>\n",
              "<table border=\"1\" class=\"dataframe\">\n",
              "  <thead>\n",
              "    <tr style=\"text-align: right;\">\n",
              "      <th></th>\n",
              "      <th>v3</th>\n",
              "      <th>v4</th>\n",
              "      <th>v5</th>\n",
              "      <th>r1</th>\n",
              "      <th>r2</th>\n",
              "    </tr>\n",
              "  </thead>\n",
              "  <tbody>\n",
              "    <tr>\n",
              "      <th>0</th>\n",
              "      <td>-1.0</td>\n",
              "      <td>-1.0</td>\n",
              "      <td>-1.0</td>\n",
              "      <td>3.57</td>\n",
              "      <td>3.56</td>\n",
              "    </tr>\n",
              "    <tr>\n",
              "      <th>1</th>\n",
              "      <td>-1.0</td>\n",
              "      <td>-1.0</td>\n",
              "      <td>1.0</td>\n",
              "      <td>3.49</td>\n",
              "      <td>3.44</td>\n",
              "    </tr>\n",
              "    <tr>\n",
              "      <th>2</th>\n",
              "      <td>-1.0</td>\n",
              "      <td>1.0</td>\n",
              "      <td>-1.0</td>\n",
              "      <td>3.88</td>\n",
              "      <td>4.03</td>\n",
              "    </tr>\n",
              "    <tr>\n",
              "      <th>3</th>\n",
              "      <td>-1.0</td>\n",
              "      <td>1.0</td>\n",
              "      <td>1.0</td>\n",
              "      <td>3.68</td>\n",
              "      <td>3.55</td>\n",
              "    </tr>\n",
              "    <tr>\n",
              "      <th>4</th>\n",
              "      <td>1.0</td>\n",
              "      <td>-1.0</td>\n",
              "      <td>-1.0</td>\n",
              "      <td>1.36</td>\n",
              "      <td>1.33</td>\n",
              "    </tr>\n",
              "    <tr>\n",
              "      <th>5</th>\n",
              "      <td>1.0</td>\n",
              "      <td>-1.0</td>\n",
              "      <td>1.0</td>\n",
              "      <td>1.85</td>\n",
              "      <td>1.70</td>\n",
              "    </tr>\n",
              "    <tr>\n",
              "      <th>6</th>\n",
              "      <td>1.0</td>\n",
              "      <td>1.0</td>\n",
              "      <td>-1.0</td>\n",
              "      <td>1.81</td>\n",
              "      <td>1.71</td>\n",
              "    </tr>\n",
              "    <tr>\n",
              "      <th>7</th>\n",
              "      <td>1.0</td>\n",
              "      <td>1.0</td>\n",
              "      <td>1.0</td>\n",
              "      <td>1.90</td>\n",
              "      <td>1.69</td>\n",
              "    </tr>\n",
              "  </tbody>\n",
              "</table>\n",
              "</div>\n",
              "    <div class=\"colab-df-buttons\">\n",
              "\n",
              "  <div class=\"colab-df-container\">\n",
              "    <button class=\"colab-df-convert\" onclick=\"convertToInteractive('df-aedf49a0-c1e4-4003-9d22-4e8068315c51')\"\n",
              "            title=\"Convert this dataframe to an interactive table.\"\n",
              "            style=\"display:none;\">\n",
              "\n",
              "  <svg xmlns=\"http://www.w3.org/2000/svg\" height=\"24px\" viewBox=\"0 -960 960 960\">\n",
              "    <path d=\"M120-120v-720h720v720H120Zm60-500h600v-160H180v160Zm220 220h160v-160H400v160Zm0 220h160v-160H400v160ZM180-400h160v-160H180v160Zm440 0h160v-160H620v160ZM180-180h160v-160H180v160Zm440 0h160v-160H620v160Z\"/>\n",
              "  </svg>\n",
              "    </button>\n",
              "\n",
              "  <style>\n",
              "    .colab-df-container {\n",
              "      display:flex;\n",
              "      gap: 12px;\n",
              "    }\n",
              "\n",
              "    .colab-df-convert {\n",
              "      background-color: #E8F0FE;\n",
              "      border: none;\n",
              "      border-radius: 50%;\n",
              "      cursor: pointer;\n",
              "      display: none;\n",
              "      fill: #1967D2;\n",
              "      height: 32px;\n",
              "      padding: 0 0 0 0;\n",
              "      width: 32px;\n",
              "    }\n",
              "\n",
              "    .colab-df-convert:hover {\n",
              "      background-color: #E2EBFA;\n",
              "      box-shadow: 0px 1px 2px rgba(60, 64, 67, 0.3), 0px 1px 3px 1px rgba(60, 64, 67, 0.15);\n",
              "      fill: #174EA6;\n",
              "    }\n",
              "\n",
              "    .colab-df-buttons div {\n",
              "      margin-bottom: 4px;\n",
              "    }\n",
              "\n",
              "    [theme=dark] .colab-df-convert {\n",
              "      background-color: #3B4455;\n",
              "      fill: #D2E3FC;\n",
              "    }\n",
              "\n",
              "    [theme=dark] .colab-df-convert:hover {\n",
              "      background-color: #434B5C;\n",
              "      box-shadow: 0px 1px 3px 1px rgba(0, 0, 0, 0.15);\n",
              "      filter: drop-shadow(0px 1px 2px rgba(0, 0, 0, 0.3));\n",
              "      fill: #FFFFFF;\n",
              "    }\n",
              "  </style>\n",
              "\n",
              "    <script>\n",
              "      const buttonEl =\n",
              "        document.querySelector('#df-aedf49a0-c1e4-4003-9d22-4e8068315c51 button.colab-df-convert');\n",
              "      buttonEl.style.display =\n",
              "        google.colab.kernel.accessAllowed ? 'block' : 'none';\n",
              "\n",
              "      async function convertToInteractive(key) {\n",
              "        const element = document.querySelector('#df-aedf49a0-c1e4-4003-9d22-4e8068315c51');\n",
              "        const dataTable =\n",
              "          await google.colab.kernel.invokeFunction('convertToInteractive',\n",
              "                                                    [key], {});\n",
              "        if (!dataTable) return;\n",
              "\n",
              "        const docLinkHtml = 'Like what you see? Visit the ' +\n",
              "          '<a target=\"_blank\" href=https://colab.research.google.com/notebooks/data_table.ipynb>data table notebook</a>'\n",
              "          + ' to learn more about interactive tables.';\n",
              "        element.innerHTML = '';\n",
              "        dataTable['output_type'] = 'display_data';\n",
              "        await google.colab.output.renderOutput(dataTable, element);\n",
              "        const docLink = document.createElement('div');\n",
              "        docLink.innerHTML = docLinkHtml;\n",
              "        element.appendChild(docLink);\n",
              "      }\n",
              "    </script>\n",
              "  </div>\n",
              "\n",
              "\n",
              "<div id=\"df-e3385b6e-edfc-441a-93da-3d2050831789\">\n",
              "  <button class=\"colab-df-quickchart\" onclick=\"quickchart('df-e3385b6e-edfc-441a-93da-3d2050831789')\"\n",
              "            title=\"Suggest charts\"\n",
              "            style=\"display:none;\">\n",
              "\n",
              "<svg xmlns=\"http://www.w3.org/2000/svg\" height=\"24px\"viewBox=\"0 0 24 24\"\n",
              "     width=\"24px\">\n",
              "    <g>\n",
              "        <path d=\"M19 3H5c-1.1 0-2 .9-2 2v14c0 1.1.9 2 2 2h14c1.1 0 2-.9 2-2V5c0-1.1-.9-2-2-2zM9 17H7v-7h2v7zm4 0h-2V7h2v10zm4 0h-2v-4h2v4z\"/>\n",
              "    </g>\n",
              "</svg>\n",
              "  </button>\n",
              "\n",
              "<style>\n",
              "  .colab-df-quickchart {\n",
              "      --bg-color: #E8F0FE;\n",
              "      --fill-color: #1967D2;\n",
              "      --hover-bg-color: #E2EBFA;\n",
              "      --hover-fill-color: #174EA6;\n",
              "      --disabled-fill-color: #AAA;\n",
              "      --disabled-bg-color: #DDD;\n",
              "  }\n",
              "\n",
              "  [theme=dark] .colab-df-quickchart {\n",
              "      --bg-color: #3B4455;\n",
              "      --fill-color: #D2E3FC;\n",
              "      --hover-bg-color: #434B5C;\n",
              "      --hover-fill-color: #FFFFFF;\n",
              "      --disabled-bg-color: #3B4455;\n",
              "      --disabled-fill-color: #666;\n",
              "  }\n",
              "\n",
              "  .colab-df-quickchart {\n",
              "    background-color: var(--bg-color);\n",
              "    border: none;\n",
              "    border-radius: 50%;\n",
              "    cursor: pointer;\n",
              "    display: none;\n",
              "    fill: var(--fill-color);\n",
              "    height: 32px;\n",
              "    padding: 0;\n",
              "    width: 32px;\n",
              "  }\n",
              "\n",
              "  .colab-df-quickchart:hover {\n",
              "    background-color: var(--hover-bg-color);\n",
              "    box-shadow: 0 1px 2px rgba(60, 64, 67, 0.3), 0 1px 3px 1px rgba(60, 64, 67, 0.15);\n",
              "    fill: var(--button-hover-fill-color);\n",
              "  }\n",
              "\n",
              "  .colab-df-quickchart-complete:disabled,\n",
              "  .colab-df-quickchart-complete:disabled:hover {\n",
              "    background-color: var(--disabled-bg-color);\n",
              "    fill: var(--disabled-fill-color);\n",
              "    box-shadow: none;\n",
              "  }\n",
              "\n",
              "  .colab-df-spinner {\n",
              "    border: 2px solid var(--fill-color);\n",
              "    border-color: transparent;\n",
              "    border-bottom-color: var(--fill-color);\n",
              "    animation:\n",
              "      spin 1s steps(1) infinite;\n",
              "  }\n",
              "\n",
              "  @keyframes spin {\n",
              "    0% {\n",
              "      border-color: transparent;\n",
              "      border-bottom-color: var(--fill-color);\n",
              "      border-left-color: var(--fill-color);\n",
              "    }\n",
              "    20% {\n",
              "      border-color: transparent;\n",
              "      border-left-color: var(--fill-color);\n",
              "      border-top-color: var(--fill-color);\n",
              "    }\n",
              "    30% {\n",
              "      border-color: transparent;\n",
              "      border-left-color: var(--fill-color);\n",
              "      border-top-color: var(--fill-color);\n",
              "      border-right-color: var(--fill-color);\n",
              "    }\n",
              "    40% {\n",
              "      border-color: transparent;\n",
              "      border-right-color: var(--fill-color);\n",
              "      border-top-color: var(--fill-color);\n",
              "    }\n",
              "    60% {\n",
              "      border-color: transparent;\n",
              "      border-right-color: var(--fill-color);\n",
              "    }\n",
              "    80% {\n",
              "      border-color: transparent;\n",
              "      border-right-color: var(--fill-color);\n",
              "      border-bottom-color: var(--fill-color);\n",
              "    }\n",
              "    90% {\n",
              "      border-color: transparent;\n",
              "      border-bottom-color: var(--fill-color);\n",
              "    }\n",
              "  }\n",
              "</style>\n",
              "\n",
              "  <script>\n",
              "    async function quickchart(key) {\n",
              "      const quickchartButtonEl =\n",
              "        document.querySelector('#' + key + ' button');\n",
              "      quickchartButtonEl.disabled = true;  // To prevent multiple clicks.\n",
              "      quickchartButtonEl.classList.add('colab-df-spinner');\n",
              "      try {\n",
              "        const charts = await google.colab.kernel.invokeFunction(\n",
              "            'suggestCharts', [key], {});\n",
              "      } catch (error) {\n",
              "        console.error('Error during call to suggestCharts:', error);\n",
              "      }\n",
              "      quickchartButtonEl.classList.remove('colab-df-spinner');\n",
              "      quickchartButtonEl.classList.add('colab-df-quickchart-complete');\n",
              "    }\n",
              "    (() => {\n",
              "      let quickchartButtonEl =\n",
              "        document.querySelector('#df-e3385b6e-edfc-441a-93da-3d2050831789 button');\n",
              "      quickchartButtonEl.style.display =\n",
              "        google.colab.kernel.accessAllowed ? 'block' : 'none';\n",
              "    })();\n",
              "  </script>\n",
              "</div>\n",
              "\n",
              "  <div id=\"id_9e8cd1d3-3a9d-4de0-a837-8d85adcf391f\">\n",
              "    <style>\n",
              "      .colab-df-generate {\n",
              "        background-color: #E8F0FE;\n",
              "        border: none;\n",
              "        border-radius: 50%;\n",
              "        cursor: pointer;\n",
              "        display: none;\n",
              "        fill: #1967D2;\n",
              "        height: 32px;\n",
              "        padding: 0 0 0 0;\n",
              "        width: 32px;\n",
              "      }\n",
              "\n",
              "      .colab-df-generate:hover {\n",
              "        background-color: #E2EBFA;\n",
              "        box-shadow: 0px 1px 2px rgba(60, 64, 67, 0.3), 0px 1px 3px 1px rgba(60, 64, 67, 0.15);\n",
              "        fill: #174EA6;\n",
              "      }\n",
              "\n",
              "      [theme=dark] .colab-df-generate {\n",
              "        background-color: #3B4455;\n",
              "        fill: #D2E3FC;\n",
              "      }\n",
              "\n",
              "      [theme=dark] .colab-df-generate:hover {\n",
              "        background-color: #434B5C;\n",
              "        box-shadow: 0px 1px 3px 1px rgba(0, 0, 0, 0.15);\n",
              "        filter: drop-shadow(0px 1px 2px rgba(0, 0, 0, 0.3));\n",
              "        fill: #FFFFFF;\n",
              "      }\n",
              "    </style>\n",
              "    <button class=\"colab-df-generate\" onclick=\"generateWithVariable('matriz_grouped')\"\n",
              "            title=\"Generate code using this dataframe.\"\n",
              "            style=\"display:none;\">\n",
              "\n",
              "  <svg xmlns=\"http://www.w3.org/2000/svg\" height=\"24px\"viewBox=\"0 0 24 24\"\n",
              "       width=\"24px\">\n",
              "    <path d=\"M7,19H8.4L18.45,9,17,7.55,7,17.6ZM5,21V16.75L18.45,3.32a2,2,0,0,1,2.83,0l1.4,1.43a1.91,1.91,0,0,1,.58,1.4,1.91,1.91,0,0,1-.58,1.4L9.25,21ZM18.45,9,17,7.55Zm-12,3A5.31,5.31,0,0,0,4.9,8.1,5.31,5.31,0,0,0,1,6.5,5.31,5.31,0,0,0,4.9,4.9,5.31,5.31,0,0,0,6.5,1,5.31,5.31,0,0,0,8.1,4.9,5.31,5.31,0,0,0,12,6.5,5.46,5.46,0,0,0,6.5,12Z\"/>\n",
              "  </svg>\n",
              "    </button>\n",
              "    <script>\n",
              "      (() => {\n",
              "      const buttonEl =\n",
              "        document.querySelector('#id_9e8cd1d3-3a9d-4de0-a837-8d85adcf391f button.colab-df-generate');\n",
              "      buttonEl.style.display =\n",
              "        google.colab.kernel.accessAllowed ? 'block' : 'none';\n",
              "\n",
              "      buttonEl.onclick = () => {\n",
              "        google.colab.notebook.generateWithVariable('matriz_grouped');\n",
              "      }\n",
              "      })();\n",
              "    </script>\n",
              "  </div>\n",
              "\n",
              "    </div>\n",
              "  </div>\n"
            ],
            "application/vnd.google.colaboratory.intrinsic+json": {
              "type": "dataframe",
              "variable_name": "matriz_grouped",
              "summary": "{\n  \"name\": \"matriz_grouped\",\n  \"rows\": 8,\n  \"fields\": [\n    {\n      \"column\": \"v3\",\n      \"properties\": {\n        \"dtype\": \"number\",\n        \"std\": 1.0690449676496976,\n        \"min\": -1.0,\n        \"max\": 1.0,\n        \"num_unique_values\": 2,\n        \"samples\": [\n          1.0,\n          -1.0\n        ],\n        \"semantic_type\": \"\",\n        \"description\": \"\"\n      }\n    },\n    {\n      \"column\": \"v4\",\n      \"properties\": {\n        \"dtype\": \"number\",\n        \"std\": 1.0690449676496976,\n        \"min\": -1.0,\n        \"max\": 1.0,\n        \"num_unique_values\": 2,\n        \"samples\": [\n          1.0,\n          -1.0\n        ],\n        \"semantic_type\": \"\",\n        \"description\": \"\"\n      }\n    },\n    {\n      \"column\": \"v5\",\n      \"properties\": {\n        \"dtype\": \"number\",\n        \"std\": 1.0690449676496976,\n        \"min\": -1.0,\n        \"max\": 1.0,\n        \"num_unique_values\": 2,\n        \"samples\": [\n          1.0,\n          -1.0\n        ],\n        \"semantic_type\": \"\",\n        \"description\": \"\"\n      }\n    },\n    {\n      \"column\": \"r1\",\n      \"properties\": {\n        \"dtype\": \"number\",\n        \"std\": 1.0476879306358358,\n        \"min\": 1.36,\n        \"max\": 3.88,\n        \"num_unique_values\": 8,\n        \"samples\": [\n          3.49,\n          1.85\n        ],\n        \"semantic_type\": \"\",\n        \"description\": \"\"\n      }\n    },\n    {\n      \"column\": \"r2\",\n      \"properties\": {\n        \"dtype\": \"number\",\n        \"std\": 1.109194527573951,\n        \"min\": 1.33,\n        \"max\": 4.03,\n        \"num_unique_values\": 8,\n        \"samples\": [\n          3.44,\n          1.7\n        ],\n        \"semantic_type\": \"\",\n        \"description\": \"\"\n      }\n    }\n  ]\n}"
            }
          },
          "metadata": {},
          "execution_count": 149
        }
      ]
    },
    {
      "cell_type": "markdown",
      "source": [
        "* Calculamos agora a média para cada par de réplicas e também a variância para cada par.\n",
        "\n",
        "O código abaixo calcula a média para cada linha e a variância para cada linha, para então claular a média geral e variância geral."
      ],
      "metadata": {
        "id": "KWXB-PisswP5"
      }
    },
    {
      "cell_type": "code",
      "source": [
        "#Cálculo das médias e variância das réplicas\n",
        "media_replicas = matriz_grouped[['r1', 'r2']].mean(axis=1)\n",
        "var_replicas = matriz_grouped[['r1', 'r2']].var(axis=1)\n",
        "\n"
      ],
      "metadata": {
        "id": "n1R-T98M2T3N"
      },
      "execution_count": null,
      "outputs": []
    },
    {
      "cell_type": "markdown",
      "source": [
        "* Calculando a média das variâncias e o erro experimental"
      ],
      "metadata": {
        "id": "aK5NBOtqs4Fg"
      }
    },
    {
      "cell_type": "code",
      "source": [
        "#Variância experimental\n",
        "var_exp = np.mean(var_replicas)\n",
        "print('Variânca experimental:', var_exp)"
      ],
      "metadata": {
        "colab": {
          "base_uri": "https://localhost:8080/"
        },
        "id": "m9Xqv4L9EZb3",
        "outputId": "0524beee-3374-4f87-d648-5740c55b347e"
      },
      "execution_count": null,
      "outputs": [
        {
          "output_type": "stream",
          "name": "stdout",
          "text": [
            "Variânca experimental: 0.007468750000000016\n"
          ]
        }
      ]
    },
    {
      "cell_type": "code",
      "source": [
        "#Erro experimental\n",
        "erro_exp = np.sqrt(var_exp)\n",
        "print('Erro experimental:', erro_exp)"
      ],
      "metadata": {
        "colab": {
          "base_uri": "https://localhost:8080/"
        },
        "id": "rEliBDi9ELUO",
        "outputId": "314453ec-3fd6-4240-d6aa-913ee8a7a6bd"
      },
      "execution_count": null,
      "outputs": [
        {
          "output_type": "stream",
          "name": "stdout",
          "text": [
            "Erro experimental: 0.08642193008721812\n"
          ]
        }
      ]
    },
    {
      "cell_type": "code",
      "source": [
        "#Inserindo a resposta média na matriz\n",
        "matriz_grouped['resposta_media'] = media_replicas"
      ],
      "metadata": {
        "id": "IFRHYeED2aLB"
      },
      "execution_count": null,
      "outputs": []
    },
    {
      "cell_type": "markdown",
      "source": [
        "* Com a resposta média, podemos recalcular os efeitos"
      ],
      "metadata": {
        "id": "nheSAVZUtdAC"
      }
    },
    {
      "cell_type": "code",
      "source": [
        "matriz_grouped"
      ],
      "metadata": {
        "colab": {
          "base_uri": "https://localhost:8080/",
          "height": 300
        },
        "id": "CcU8o6nx2e4X",
        "outputId": "da28a46e-ed73-409e-c030-8bf7a9e53384"
      },
      "execution_count": null,
      "outputs": [
        {
          "output_type": "execute_result",
          "data": {
            "text/plain": [
              "    v3   v4   v5    r1    r2  resposta_media\n",
              "0 -1.0 -1.0 -1.0  3.57  3.56           3.565\n",
              "1 -1.0 -1.0  1.0  3.49  3.44           3.465\n",
              "2 -1.0  1.0 -1.0  3.88  4.03           3.955\n",
              "3 -1.0  1.0  1.0  3.68  3.55           3.615\n",
              "4  1.0 -1.0 -1.0  1.36  1.33           1.345\n",
              "5  1.0 -1.0  1.0  1.85  1.70           1.775\n",
              "6  1.0  1.0 -1.0  1.81  1.71           1.760\n",
              "7  1.0  1.0  1.0  1.90  1.69           1.795"
            ],
            "text/html": [
              "\n",
              "  <div id=\"df-b836914e-03b1-488e-bf61-07eb001a2a49\" class=\"colab-df-container\">\n",
              "    <div>\n",
              "<style scoped>\n",
              "    .dataframe tbody tr th:only-of-type {\n",
              "        vertical-align: middle;\n",
              "    }\n",
              "\n",
              "    .dataframe tbody tr th {\n",
              "        vertical-align: top;\n",
              "    }\n",
              "\n",
              "    .dataframe thead th {\n",
              "        text-align: right;\n",
              "    }\n",
              "</style>\n",
              "<table border=\"1\" class=\"dataframe\">\n",
              "  <thead>\n",
              "    <tr style=\"text-align: right;\">\n",
              "      <th></th>\n",
              "      <th>v3</th>\n",
              "      <th>v4</th>\n",
              "      <th>v5</th>\n",
              "      <th>r1</th>\n",
              "      <th>r2</th>\n",
              "      <th>resposta_media</th>\n",
              "    </tr>\n",
              "  </thead>\n",
              "  <tbody>\n",
              "    <tr>\n",
              "      <th>0</th>\n",
              "      <td>-1.0</td>\n",
              "      <td>-1.0</td>\n",
              "      <td>-1.0</td>\n",
              "      <td>3.57</td>\n",
              "      <td>3.56</td>\n",
              "      <td>3.565</td>\n",
              "    </tr>\n",
              "    <tr>\n",
              "      <th>1</th>\n",
              "      <td>-1.0</td>\n",
              "      <td>-1.0</td>\n",
              "      <td>1.0</td>\n",
              "      <td>3.49</td>\n",
              "      <td>3.44</td>\n",
              "      <td>3.465</td>\n",
              "    </tr>\n",
              "    <tr>\n",
              "      <th>2</th>\n",
              "      <td>-1.0</td>\n",
              "      <td>1.0</td>\n",
              "      <td>-1.0</td>\n",
              "      <td>3.88</td>\n",
              "      <td>4.03</td>\n",
              "      <td>3.955</td>\n",
              "    </tr>\n",
              "    <tr>\n",
              "      <th>3</th>\n",
              "      <td>-1.0</td>\n",
              "      <td>1.0</td>\n",
              "      <td>1.0</td>\n",
              "      <td>3.68</td>\n",
              "      <td>3.55</td>\n",
              "      <td>3.615</td>\n",
              "    </tr>\n",
              "    <tr>\n",
              "      <th>4</th>\n",
              "      <td>1.0</td>\n",
              "      <td>-1.0</td>\n",
              "      <td>-1.0</td>\n",
              "      <td>1.36</td>\n",
              "      <td>1.33</td>\n",
              "      <td>1.345</td>\n",
              "    </tr>\n",
              "    <tr>\n",
              "      <th>5</th>\n",
              "      <td>1.0</td>\n",
              "      <td>-1.0</td>\n",
              "      <td>1.0</td>\n",
              "      <td>1.85</td>\n",
              "      <td>1.70</td>\n",
              "      <td>1.775</td>\n",
              "    </tr>\n",
              "    <tr>\n",
              "      <th>6</th>\n",
              "      <td>1.0</td>\n",
              "      <td>1.0</td>\n",
              "      <td>-1.0</td>\n",
              "      <td>1.81</td>\n",
              "      <td>1.71</td>\n",
              "      <td>1.760</td>\n",
              "    </tr>\n",
              "    <tr>\n",
              "      <th>7</th>\n",
              "      <td>1.0</td>\n",
              "      <td>1.0</td>\n",
              "      <td>1.0</td>\n",
              "      <td>1.90</td>\n",
              "      <td>1.69</td>\n",
              "      <td>1.795</td>\n",
              "    </tr>\n",
              "  </tbody>\n",
              "</table>\n",
              "</div>\n",
              "    <div class=\"colab-df-buttons\">\n",
              "\n",
              "  <div class=\"colab-df-container\">\n",
              "    <button class=\"colab-df-convert\" onclick=\"convertToInteractive('df-b836914e-03b1-488e-bf61-07eb001a2a49')\"\n",
              "            title=\"Convert this dataframe to an interactive table.\"\n",
              "            style=\"display:none;\">\n",
              "\n",
              "  <svg xmlns=\"http://www.w3.org/2000/svg\" height=\"24px\" viewBox=\"0 -960 960 960\">\n",
              "    <path d=\"M120-120v-720h720v720H120Zm60-500h600v-160H180v160Zm220 220h160v-160H400v160Zm0 220h160v-160H400v160ZM180-400h160v-160H180v160Zm440 0h160v-160H620v160ZM180-180h160v-160H180v160Zm440 0h160v-160H620v160Z\"/>\n",
              "  </svg>\n",
              "    </button>\n",
              "\n",
              "  <style>\n",
              "    .colab-df-container {\n",
              "      display:flex;\n",
              "      gap: 12px;\n",
              "    }\n",
              "\n",
              "    .colab-df-convert {\n",
              "      background-color: #E8F0FE;\n",
              "      border: none;\n",
              "      border-radius: 50%;\n",
              "      cursor: pointer;\n",
              "      display: none;\n",
              "      fill: #1967D2;\n",
              "      height: 32px;\n",
              "      padding: 0 0 0 0;\n",
              "      width: 32px;\n",
              "    }\n",
              "\n",
              "    .colab-df-convert:hover {\n",
              "      background-color: #E2EBFA;\n",
              "      box-shadow: 0px 1px 2px rgba(60, 64, 67, 0.3), 0px 1px 3px 1px rgba(60, 64, 67, 0.15);\n",
              "      fill: #174EA6;\n",
              "    }\n",
              "\n",
              "    .colab-df-buttons div {\n",
              "      margin-bottom: 4px;\n",
              "    }\n",
              "\n",
              "    [theme=dark] .colab-df-convert {\n",
              "      background-color: #3B4455;\n",
              "      fill: #D2E3FC;\n",
              "    }\n",
              "\n",
              "    [theme=dark] .colab-df-convert:hover {\n",
              "      background-color: #434B5C;\n",
              "      box-shadow: 0px 1px 3px 1px rgba(0, 0, 0, 0.15);\n",
              "      filter: drop-shadow(0px 1px 2px rgba(0, 0, 0, 0.3));\n",
              "      fill: #FFFFFF;\n",
              "    }\n",
              "  </style>\n",
              "\n",
              "    <script>\n",
              "      const buttonEl =\n",
              "        document.querySelector('#df-b836914e-03b1-488e-bf61-07eb001a2a49 button.colab-df-convert');\n",
              "      buttonEl.style.display =\n",
              "        google.colab.kernel.accessAllowed ? 'block' : 'none';\n",
              "\n",
              "      async function convertToInteractive(key) {\n",
              "        const element = document.querySelector('#df-b836914e-03b1-488e-bf61-07eb001a2a49');\n",
              "        const dataTable =\n",
              "          await google.colab.kernel.invokeFunction('convertToInteractive',\n",
              "                                                    [key], {});\n",
              "        if (!dataTable) return;\n",
              "\n",
              "        const docLinkHtml = 'Like what you see? Visit the ' +\n",
              "          '<a target=\"_blank\" href=https://colab.research.google.com/notebooks/data_table.ipynb>data table notebook</a>'\n",
              "          + ' to learn more about interactive tables.';\n",
              "        element.innerHTML = '';\n",
              "        dataTable['output_type'] = 'display_data';\n",
              "        await google.colab.output.renderOutput(dataTable, element);\n",
              "        const docLink = document.createElement('div');\n",
              "        docLink.innerHTML = docLinkHtml;\n",
              "        element.appendChild(docLink);\n",
              "      }\n",
              "    </script>\n",
              "  </div>\n",
              "\n",
              "\n",
              "<div id=\"df-654afb8d-ee88-4de6-93e5-bb1e24a5ed0e\">\n",
              "  <button class=\"colab-df-quickchart\" onclick=\"quickchart('df-654afb8d-ee88-4de6-93e5-bb1e24a5ed0e')\"\n",
              "            title=\"Suggest charts\"\n",
              "            style=\"display:none;\">\n",
              "\n",
              "<svg xmlns=\"http://www.w3.org/2000/svg\" height=\"24px\"viewBox=\"0 0 24 24\"\n",
              "     width=\"24px\">\n",
              "    <g>\n",
              "        <path d=\"M19 3H5c-1.1 0-2 .9-2 2v14c0 1.1.9 2 2 2h14c1.1 0 2-.9 2-2V5c0-1.1-.9-2-2-2zM9 17H7v-7h2v7zm4 0h-2V7h2v10zm4 0h-2v-4h2v4z\"/>\n",
              "    </g>\n",
              "</svg>\n",
              "  </button>\n",
              "\n",
              "<style>\n",
              "  .colab-df-quickchart {\n",
              "      --bg-color: #E8F0FE;\n",
              "      --fill-color: #1967D2;\n",
              "      --hover-bg-color: #E2EBFA;\n",
              "      --hover-fill-color: #174EA6;\n",
              "      --disabled-fill-color: #AAA;\n",
              "      --disabled-bg-color: #DDD;\n",
              "  }\n",
              "\n",
              "  [theme=dark] .colab-df-quickchart {\n",
              "      --bg-color: #3B4455;\n",
              "      --fill-color: #D2E3FC;\n",
              "      --hover-bg-color: #434B5C;\n",
              "      --hover-fill-color: #FFFFFF;\n",
              "      --disabled-bg-color: #3B4455;\n",
              "      --disabled-fill-color: #666;\n",
              "  }\n",
              "\n",
              "  .colab-df-quickchart {\n",
              "    background-color: var(--bg-color);\n",
              "    border: none;\n",
              "    border-radius: 50%;\n",
              "    cursor: pointer;\n",
              "    display: none;\n",
              "    fill: var(--fill-color);\n",
              "    height: 32px;\n",
              "    padding: 0;\n",
              "    width: 32px;\n",
              "  }\n",
              "\n",
              "  .colab-df-quickchart:hover {\n",
              "    background-color: var(--hover-bg-color);\n",
              "    box-shadow: 0 1px 2px rgba(60, 64, 67, 0.3), 0 1px 3px 1px rgba(60, 64, 67, 0.15);\n",
              "    fill: var(--button-hover-fill-color);\n",
              "  }\n",
              "\n",
              "  .colab-df-quickchart-complete:disabled,\n",
              "  .colab-df-quickchart-complete:disabled:hover {\n",
              "    background-color: var(--disabled-bg-color);\n",
              "    fill: var(--disabled-fill-color);\n",
              "    box-shadow: none;\n",
              "  }\n",
              "\n",
              "  .colab-df-spinner {\n",
              "    border: 2px solid var(--fill-color);\n",
              "    border-color: transparent;\n",
              "    border-bottom-color: var(--fill-color);\n",
              "    animation:\n",
              "      spin 1s steps(1) infinite;\n",
              "  }\n",
              "\n",
              "  @keyframes spin {\n",
              "    0% {\n",
              "      border-color: transparent;\n",
              "      border-bottom-color: var(--fill-color);\n",
              "      border-left-color: var(--fill-color);\n",
              "    }\n",
              "    20% {\n",
              "      border-color: transparent;\n",
              "      border-left-color: var(--fill-color);\n",
              "      border-top-color: var(--fill-color);\n",
              "    }\n",
              "    30% {\n",
              "      border-color: transparent;\n",
              "      border-left-color: var(--fill-color);\n",
              "      border-top-color: var(--fill-color);\n",
              "      border-right-color: var(--fill-color);\n",
              "    }\n",
              "    40% {\n",
              "      border-color: transparent;\n",
              "      border-right-color: var(--fill-color);\n",
              "      border-top-color: var(--fill-color);\n",
              "    }\n",
              "    60% {\n",
              "      border-color: transparent;\n",
              "      border-right-color: var(--fill-color);\n",
              "    }\n",
              "    80% {\n",
              "      border-color: transparent;\n",
              "      border-right-color: var(--fill-color);\n",
              "      border-bottom-color: var(--fill-color);\n",
              "    }\n",
              "    90% {\n",
              "      border-color: transparent;\n",
              "      border-bottom-color: var(--fill-color);\n",
              "    }\n",
              "  }\n",
              "</style>\n",
              "\n",
              "  <script>\n",
              "    async function quickchart(key) {\n",
              "      const quickchartButtonEl =\n",
              "        document.querySelector('#' + key + ' button');\n",
              "      quickchartButtonEl.disabled = true;  // To prevent multiple clicks.\n",
              "      quickchartButtonEl.classList.add('colab-df-spinner');\n",
              "      try {\n",
              "        const charts = await google.colab.kernel.invokeFunction(\n",
              "            'suggestCharts', [key], {});\n",
              "      } catch (error) {\n",
              "        console.error('Error during call to suggestCharts:', error);\n",
              "      }\n",
              "      quickchartButtonEl.classList.remove('colab-df-spinner');\n",
              "      quickchartButtonEl.classList.add('colab-df-quickchart-complete');\n",
              "    }\n",
              "    (() => {\n",
              "      let quickchartButtonEl =\n",
              "        document.querySelector('#df-654afb8d-ee88-4de6-93e5-bb1e24a5ed0e button');\n",
              "      quickchartButtonEl.style.display =\n",
              "        google.colab.kernel.accessAllowed ? 'block' : 'none';\n",
              "    })();\n",
              "  </script>\n",
              "</div>\n",
              "\n",
              "  <div id=\"id_b54b2e0e-95b8-45f9-bb89-833bc53ffda6\">\n",
              "    <style>\n",
              "      .colab-df-generate {\n",
              "        background-color: #E8F0FE;\n",
              "        border: none;\n",
              "        border-radius: 50%;\n",
              "        cursor: pointer;\n",
              "        display: none;\n",
              "        fill: #1967D2;\n",
              "        height: 32px;\n",
              "        padding: 0 0 0 0;\n",
              "        width: 32px;\n",
              "      }\n",
              "\n",
              "      .colab-df-generate:hover {\n",
              "        background-color: #E2EBFA;\n",
              "        box-shadow: 0px 1px 2px rgba(60, 64, 67, 0.3), 0px 1px 3px 1px rgba(60, 64, 67, 0.15);\n",
              "        fill: #174EA6;\n",
              "      }\n",
              "\n",
              "      [theme=dark] .colab-df-generate {\n",
              "        background-color: #3B4455;\n",
              "        fill: #D2E3FC;\n",
              "      }\n",
              "\n",
              "      [theme=dark] .colab-df-generate:hover {\n",
              "        background-color: #434B5C;\n",
              "        box-shadow: 0px 1px 3px 1px rgba(0, 0, 0, 0.15);\n",
              "        filter: drop-shadow(0px 1px 2px rgba(0, 0, 0, 0.3));\n",
              "        fill: #FFFFFF;\n",
              "      }\n",
              "    </style>\n",
              "    <button class=\"colab-df-generate\" onclick=\"generateWithVariable('matriz_grouped')\"\n",
              "            title=\"Generate code using this dataframe.\"\n",
              "            style=\"display:none;\">\n",
              "\n",
              "  <svg xmlns=\"http://www.w3.org/2000/svg\" height=\"24px\"viewBox=\"0 0 24 24\"\n",
              "       width=\"24px\">\n",
              "    <path d=\"M7,19H8.4L18.45,9,17,7.55,7,17.6ZM5,21V16.75L18.45,3.32a2,2,0,0,1,2.83,0l1.4,1.43a1.91,1.91,0,0,1,.58,1.4,1.91,1.91,0,0,1-.58,1.4L9.25,21ZM18.45,9,17,7.55Zm-12,3A5.31,5.31,0,0,0,4.9,8.1,5.31,5.31,0,0,0,1,6.5,5.31,5.31,0,0,0,4.9,4.9,5.31,5.31,0,0,0,6.5,1,5.31,5.31,0,0,0,8.1,4.9,5.31,5.31,0,0,0,12,6.5,5.46,5.46,0,0,0,6.5,12Z\"/>\n",
              "  </svg>\n",
              "    </button>\n",
              "    <script>\n",
              "      (() => {\n",
              "      const buttonEl =\n",
              "        document.querySelector('#id_b54b2e0e-95b8-45f9-bb89-833bc53ffda6 button.colab-df-generate');\n",
              "      buttonEl.style.display =\n",
              "        google.colab.kernel.accessAllowed ? 'block' : 'none';\n",
              "\n",
              "      buttonEl.onclick = () => {\n",
              "        google.colab.notebook.generateWithVariable('matriz_grouped');\n",
              "      }\n",
              "      })();\n",
              "    </script>\n",
              "  </div>\n",
              "\n",
              "    </div>\n",
              "  </div>\n"
            ],
            "application/vnd.google.colaboratory.intrinsic+json": {
              "type": "dataframe",
              "variable_name": "matriz_grouped",
              "summary": "{\n  \"name\": \"matriz_grouped\",\n  \"rows\": 8,\n  \"fields\": [\n    {\n      \"column\": \"v3\",\n      \"properties\": {\n        \"dtype\": \"number\",\n        \"std\": 1.0690449676496976,\n        \"min\": -1.0,\n        \"max\": 1.0,\n        \"num_unique_values\": 2,\n        \"samples\": [\n          1.0,\n          -1.0\n        ],\n        \"semantic_type\": \"\",\n        \"description\": \"\"\n      }\n    },\n    {\n      \"column\": \"v4\",\n      \"properties\": {\n        \"dtype\": \"number\",\n        \"std\": 1.0690449676496976,\n        \"min\": -1.0,\n        \"max\": 1.0,\n        \"num_unique_values\": 2,\n        \"samples\": [\n          1.0,\n          -1.0\n        ],\n        \"semantic_type\": \"\",\n        \"description\": \"\"\n      }\n    },\n    {\n      \"column\": \"v5\",\n      \"properties\": {\n        \"dtype\": \"number\",\n        \"std\": 1.0690449676496976,\n        \"min\": -1.0,\n        \"max\": 1.0,\n        \"num_unique_values\": 2,\n        \"samples\": [\n          1.0,\n          -1.0\n        ],\n        \"semantic_type\": \"\",\n        \"description\": \"\"\n      }\n    },\n    {\n      \"column\": \"r1\",\n      \"properties\": {\n        \"dtype\": \"number\",\n        \"std\": 1.0476879306358358,\n        \"min\": 1.36,\n        \"max\": 3.88,\n        \"num_unique_values\": 8,\n        \"samples\": [\n          3.49,\n          1.85\n        ],\n        \"semantic_type\": \"\",\n        \"description\": \"\"\n      }\n    },\n    {\n      \"column\": \"r2\",\n      \"properties\": {\n        \"dtype\": \"number\",\n        \"std\": 1.109194527573951,\n        \"min\": 1.33,\n        \"max\": 4.03,\n        \"num_unique_values\": 8,\n        \"samples\": [\n          3.44,\n          1.7\n        ],\n        \"semantic_type\": \"\",\n        \"description\": \"\"\n      }\n    },\n    {\n      \"column\": \"resposta_media\",\n      \"properties\": {\n        \"dtype\": \"number\",\n        \"std\": 1.077481976978866,\n        \"min\": 1.3450000000000002,\n        \"max\": 3.955,\n        \"num_unique_values\": 8,\n        \"samples\": [\n          3.465,\n          1.775\n        ],\n        \"semantic_type\": \"\",\n        \"description\": \"\"\n      }\n    }\n  ]\n}"
            }
          },
          "metadata": {},
          "execution_count": 154
        }
      ]
    },
    {
      "cell_type": "markdown",
      "source": [
        "# Recalculando os efeitos\n",
        "\n",
        "Agora possuimos um fatorial 2 k=3, com efeitos 3 efeitos principais, 2 secundários e um terciário. Além isso, podemos calcular o erro pois temos réplicas."
      ],
      "metadata": {
        "id": "nYCR1ZmfxguL"
      }
    },
    {
      "cell_type": "code",
      "source": [
        "#Criando variáveis para cada efeito primário\n",
        "\n",
        "efeito3_rec = matriz_grouped['v3'] * matriz_grouped['resposta_media']\n",
        "efeito4_rec = matriz_grouped['v4'] * matriz_grouped['resposta_media']\n",
        "efeito5_rec = matriz_grouped['v5'] * matriz_grouped['resposta_media']\n",
        "\n",
        "\n",
        "efeitos_primarios_rec = [efeito3_rec, efeito4_rec, efeito5_rec]\n",
        "\n",
        "efeitos_1_rec = pd.concat(efeitos_primarios_rec, axis=1)\n",
        "efeitos_1_rec.columns = ['efeito3', 'efeito4', 'efeito5']"
      ],
      "metadata": {
        "id": "CSIA_EeHxufg"
      },
      "execution_count": null,
      "outputs": []
    },
    {
      "cell_type": "code",
      "source": [
        "matriz_grouped = pd.concat([matriz_grouped, efeitos_1_rec], axis=1)"
      ],
      "metadata": {
        "id": "adfCfvTT3Xi5"
      },
      "execution_count": null,
      "outputs": []
    },
    {
      "cell_type": "code",
      "source": [
        "#Criando variáveis para cada efeito secundário\n",
        "\n",
        "efeito34_rec = matriz_grouped['v3'] * matriz_grouped['v4'] * matriz_grouped['resposta_media']\n",
        "efeito35_rec = matriz_grouped['v3'] * matriz_grouped['v5'] * matriz_grouped['resposta_media']\n",
        "efeito45_rec = matriz_grouped['v4'] * matriz_grouped['v5'] * matriz_grouped['resposta_media']\n",
        "\n",
        "efeitos_secundarios_rec = [efeito34_rec, efeito35_rec, efeito45_rec]\n",
        "\n",
        "efeitos_2_rec = pd.concat(efeitos_primarios_rec, axis=1)\n",
        "efeitos_2_rec.columns = ['efeito34', 'efeito35', 'efeito45']\n"
      ],
      "metadata": {
        "id": "W9c2wfPm3cn_"
      },
      "execution_count": null,
      "outputs": []
    },
    {
      "cell_type": "code",
      "source": [
        "matriz_grouped = pd.concat([matriz_grouped, efeitos_2_rec], axis=1)"
      ],
      "metadata": {
        "id": "o35rm1ZI4mlM"
      },
      "execution_count": null,
      "outputs": []
    },
    {
      "cell_type": "code",
      "source": [
        "#Criando variáveis efeito terciário\n",
        "\n",
        "efeito345_rec = matriz_grouped['v3'] * matriz_grouped['v4'] * matriz_grouped['v5'] * matriz_grouped['resposta_media']\n",
        "\n",
        "efeito_terciario_rec = [efeito345_rec]\n",
        "\n",
        "efeitos_3_rec = pd.concat(efeito_terciario_rec, axis=1)\n",
        "efeitos_3_rec.columns = ['efeito345']\n"
      ],
      "metadata": {
        "id": "DRjYLtdw4P-x"
      },
      "execution_count": null,
      "outputs": []
    },
    {
      "cell_type": "code",
      "source": [
        "matriz_grouped = pd.concat([matriz_grouped, efeitos_3_rec], axis=1)"
      ],
      "metadata": {
        "id": "u7Gc-mg645FA"
      },
      "execution_count": null,
      "outputs": []
    },
    {
      "cell_type": "code",
      "source": [
        "soma_rec = matriz_grouped.iloc[:, 6:].sum()\n",
        "efeitos_brutos_rec = soma_rec / 3.5"
      ],
      "metadata": {
        "id": "ov9rd0e45cHB"
      },
      "execution_count": null,
      "outputs": []
    },
    {
      "cell_type": "code",
      "source": [
        "#Ordenando os efeitos\n",
        "\n",
        "efeitos_brutos_rec = efeitos_brutos_rec.sort_values(ascending=True)"
      ],
      "metadata": {
        "id": "vpFDmVWK5cHB"
      },
      "execution_count": null,
      "outputs": []
    },
    {
      "cell_type": "code",
      "source": [
        "#Efeitos primários e demais interações\n",
        "efeitos_brutos_rec"
      ],
      "metadata": {
        "colab": {
          "base_uri": "https://localhost:8080/"
        },
        "outputId": "5eef7b87-1e78-4752-d34e-064b496a626c",
        "id": "9I17LLiV5cHB"
      },
      "execution_count": null,
      "outputs": [
        {
          "output_type": "execute_result",
          "data": {
            "text/plain": [
              "efeito3     -2.264286\n",
              "efeito34    -2.264286\n",
              "efeito345   -0.044286\n",
              "efeito5      0.007143\n",
              "efeito45     0.007143\n",
              "efeito4      0.278571\n",
              "efeito35     0.278571\n",
              "dtype: float64"
            ]
          },
          "metadata": {},
          "execution_count": 163
        }
      ]
    },
    {
      "cell_type": "code",
      "source": [
        "#Gráfico dos efeitos brutos e as interações de 1, 2 e 3° ordem.\n",
        "efeitos_brutos_rec.plot(kind='bar')\n",
        "for i, valor in enumerate(efeitos_brutos_rec):\n",
        "    plt.text(i, valor, int(valor), ha='center', va='bottom')\n",
        "\n",
        "plt.xlabel('Efeitos')\n",
        "plt.ylabel('Magnitude')\n",
        "plt.title('Magnitude dos Efeitos')\n",
        "plt.xticks(rotation=45)\n",
        "plt.show()"
      ],
      "metadata": {
        "colab": {
          "base_uri": "https://localhost:8080/",
          "height": 514
        },
        "outputId": "5f355265-da38-46a2-bb78-7d85fe89a170",
        "id": "oCfQtdam5cHB"
      },
      "execution_count": null,
      "outputs": [
        {
          "output_type": "display_data",
          "data": {
            "text/plain": [
              "<Figure size 640x480 with 1 Axes>"
            ],
            "image/png": "[encoded data removed]"
          },
          "metadata": {}
        }
      ]
    },
    {
      "cell_type": "markdown",
      "source": [
        "# Calculando a porcentagem de cada efeito (refinamento)"
      ],
      "metadata": {
        "id": "cPDoMhY9_JE_"
      }
    },
    {
      "cell_type": "code",
      "source": [
        "#Elevando os efeitos ao quadrado para retirar o sinal negativo\n",
        "quadrado_efeitos_rec = efeitos_brutos_rec ** 2\n"
      ],
      "metadata": {
        "id": "w38TMSC36PfS"
      },
      "execution_count": null,
      "outputs": []
    },
    {
      "cell_type": "code",
      "source": [
        "#Somando todos os efeitos\n",
        "soma_efeitos_rec = quadrado_efeitos_rec.sum()\n"
      ],
      "metadata": {
        "id": "P3RCpmkd6PfS"
      },
      "execution_count": null,
      "outputs": []
    },
    {
      "cell_type": "code",
      "source": [
        "# Definindo a porcentagem de cada efeito\n",
        "porcentagem_efeitos_rec = (quadrado_efeitos_rec / soma_efeitos_rec) * 100\n"
      ],
      "metadata": {
        "id": "eB2GIleB6PfS"
      },
      "execution_count": null,
      "outputs": []
    },
    {
      "cell_type": "code",
      "source": [
        "#Colocando as porcentagens em ordem crescente\n",
        "porcentagem_rec = porcentagem_efeitos_rec.sort_values(ascending=True)\n"
      ],
      "metadata": {
        "id": "8IX4rGMa6PfS"
      },
      "execution_count": null,
      "outputs": []
    },
    {
      "cell_type": "markdown",
      "source": [
        "# Gráfico de contribuição dos efeitos"
      ],
      "metadata": {
        "id": "qPZ70P5H_t44"
      }
    },
    {
      "cell_type": "code",
      "source": [
        "# Gráfico de contribuição efetiva\n",
        "\n",
        "porcentagem_rec.plot(kind='bar', color='#8dd3c7')\n",
        "for i, valor in enumerate(porcentagem_rec):\n",
        "  plt.text(i, valor, int(valor), ha='center', va='bottom')\n",
        "plt.xlabel('Efeitos')\n",
        "plt.ylabel('%')\n",
        "plt.xticks(rotation=45)\n",
        "plt.title('% de contribuição dos efeitos')\n",
        "plt.show()\n"
      ],
      "metadata": {
        "colab": {
          "base_uri": "https://localhost:8080/",
          "height": 514
        },
        "id": "FKDrYCmg_xoS",
        "outputId": "d8a9b929-1cbb-4d45-8c94-253d3ac80b5e"
      },
      "execution_count": null,
      "outputs": [
        {
          "output_type": "display_data",
          "data": {
            "text/plain": [
              "<Figure size 640x480 with 1 Axes>"
            ],
            "image/png": "[encoded data removed]"
          },
          "metadata": {}
        }
      ]
    },
    {
      "cell_type": "markdown",
      "source": [
        "#Calculando a área e o valor de z"
      ],
      "metadata": {
        "id": "RjH9QL1aAOXU"
      }
    },
    {
      "cell_type": "code",
      "source": [
        "#Definindo uma curva com 7 partes\n",
        "zero = 0\n",
        "incremento = 1/7\n",
        "elementos = 7\n",
        "\n",
        "inicio = [zero + i * incremento for i in range(elementos)]"
      ],
      "metadata": {
        "id": "KQx3wtFh7-Ln"
      },
      "execution_count": null,
      "outputs": []
    },
    {
      "cell_type": "code",
      "source": [
        "#Sequência númerica de 7\n",
        "seq = list(range(1, 8))\n",
        "\n",
        "final = [num/7 for num in seq]"
      ],
      "metadata": {
        "id": "xtqs2n-f7-Ln"
      },
      "execution_count": null,
      "outputs": []
    },
    {
      "cell_type": "code",
      "source": [
        "# Somando as listas para poder gerar a média\n",
        "soma_listas = [x + y for x, y in zip(inicio, final)]"
      ],
      "metadata": {
        "id": "FGolMRJt7-Ln"
      },
      "execution_count": null,
      "outputs": []
    },
    {
      "cell_type": "code",
      "source": [
        "# Média das listas que representa a probabilidade debaixo da curva\n",
        "ponto_central = [i /2 for i in soma_listas]"
      ],
      "metadata": {
        "id": "aEME95m17-Lo"
      },
      "execution_count": null,
      "outputs": []
    },
    {
      "cell_type": "code",
      "source": [
        "#Calculando a média e desvio padrão\n",
        "media = np.mean(ponto_central)\n",
        "std = np.std(ponto_central)"
      ],
      "metadata": {
        "id": "UbndhZZi7-Lo"
      },
      "execution_count": null,
      "outputs": []
    },
    {
      "cell_type": "code",
      "source": [
        "#Calculando o z score\n",
        "z = np.round([(i - media) / std for i in ponto_central], decimals=3)"
      ],
      "metadata": {
        "id": "Qzp5TgQ67-Lo"
      },
      "execution_count": null,
      "outputs": []
    },
    {
      "cell_type": "markdown",
      "source": [
        "#Calculando o erro"
      ],
      "metadata": {
        "id": "bWBmCQWLzDdM"
      }
    },
    {
      "cell_type": "code",
      "source": [
        "print('Erro experimental:', erro_exp)"
      ],
      "metadata": {
        "colab": {
          "base_uri": "https://localhost:8080/"
        },
        "id": "1UBmAGekzlcb",
        "outputId": "641f0b08-0b95-4d98-df5d-e4f4fcdfed53"
      },
      "execution_count": null,
      "outputs": [
        {
          "output_type": "stream",
          "name": "stdout",
          "text": [
            "Erro experimental: 0.08642193008721812\n"
          ]
        }
      ]
    },
    {
      "cell_type": "code",
      "source": [
        "#Erro de um efeito (n * 2^k, onde n é o número de réplicas e k o número de variáveis)\n",
        "\n",
        "denominador = np.sqrt(2 * (2 ** 3))"
      ],
      "metadata": {
        "id": "R-2VxpaBzzxT"
      },
      "execution_count": null,
      "outputs": []
    },
    {
      "cell_type": "code",
      "source": [
        "erro_efeito = (2 * erro_exp) / denominador\n",
        "print('Erro de um efeito:', erro_efeito)"
      ],
      "metadata": {
        "colab": {
          "base_uri": "https://localhost:8080/"
        },
        "id": "c8DSqvQT0nfA",
        "outputId": "1596176f-d732-4c8e-a069-de051f96a41d"
      },
      "execution_count": null,
      "outputs": [
        {
          "output_type": "stream",
          "name": "stdout",
          "text": [
            "Erro de um efeito: 0.04321096504360906\n"
          ]
        }
      ]
    },
    {
      "cell_type": "code",
      "source": [
        "#Valor de t. Cada réplica possui 1 grau de liberdade e temos 8 experimentos, então temos 8 graus de liberdade.\n",
        "\n",
        "from scipy.stats import t\n",
        "\n",
        "alfa = 0.05\n",
        "\n",
        "t_tabelado = t.ppf(1 - alfa/2, 8)\n",
        "\n",
        "print('Valor de t tabelado:', t_tabelado)\n"
      ],
      "metadata": {
        "colab": {
          "base_uri": "https://localhost:8080/"
        },
        "id": "ysYeoimu1eBw",
        "outputId": "2ecadbaf-ae19-459a-b967-a582185187dc"
      },
      "execution_count": null,
      "outputs": [
        {
          "output_type": "stream",
          "name": "stdout",
          "text": [
            "Valor de t tabelado: 2.3060041350333704\n"
          ]
        }
      ]
    },
    {
      "cell_type": "code",
      "source": [
        "#Intervalo de Confiança para o Erro\n",
        "ic = erro_efeito * t_tabelado\n",
        "print('IC:', ic)\n"
      ],
      "metadata": {
        "colab": {
          "base_uri": "https://localhost:8080/"
        },
        "id": "O91AzV8N48i1",
        "outputId": "fe249581-53e2-431f-d5cc-00e654b82e3f"
      },
      "execution_count": null,
      "outputs": [
        {
          "output_type": "stream",
          "name": "stdout",
          "text": [
            "IC: 0.09964466406934491\n"
          ]
        }
      ]
    },
    {
      "cell_type": "markdown",
      "source": [
        "#Gráfico de probabilidade com a estimativa do erro"
      ],
      "metadata": {
        "id": "XwNUnbXVw6UT"
      }
    },
    {
      "cell_type": "code",
      "source": [
        "limite_inferior = 0 - ic\n",
        "limite_superior = 0 + ic\n",
        "media = 0\n",
        "\n",
        "sns.scatterplot(x=efeitos_brutos_rec.values, y=z, hue=efeitos_brutos_rec.index, s=160).set_title('Gráfico de Probabilidade')\n",
        "plt.axvline(x=limite_inferior, color='r')\n",
        "plt.axvline(x=limite_superior, color='r')\n",
        "plt.axvline(x=media, color='b')\n",
        "plt.xlabel('Efeitos')\n",
        "plt.ylabel('Z')\n",
        "plt.legend(fontsize='small', loc='lower left', bbox_to_anchor=(1, 0.6));"
      ],
      "metadata": {
        "colab": {
          "base_uri": "https://localhost:8080/",
          "height": 472
        },
        "id": "vP2Utk-8w9-x",
        "outputId": "1bfa85f6-0c12-4d5d-83e8-4b5b051d5fba"
      },
      "execution_count": null,
      "outputs": [
        {
          "output_type": "display_data",
          "data": {
            "text/plain": [
              "<Figure size 640x480 with 1 Axes>"
            ],
            "image/png": "[encoded data removed]"
          },
          "metadata": {}
        }
      ]
    },
    {
      "cell_type": "markdown",
      "source": [
        "\n",
        "\n",
        "---\n",
        "#Conclusão\n",
        "\n",
        "O primeiro passo do planejmaneto foi realizar a triagem. Vimos que a variável 3, 4 e 5 foram as mais significativas. Porém sem erro, nossa afirmação é baseada no visual do gráfico de probabilidade.\n",
        "\n",
        "Excluindo as 2 variáveis, conseguimos obter réplicas e então refinar o planejamento e com a estimativa do erro do efeito, concluímos que apenas a variável 3 e 4 são importantes, pois a 5 está dentro de intervalo de confiança do erro.\n",
        "\n",
        "Agora, com apenas essas duas variáveis, podemos refinar ainda mais o planejamento, propondo modelos que possam predizer o valor ótimo da resposta.\n",
        "\n",
        "Nos próximos notebooks, iremos realizar proposição de modelos e entraremos em outros tipos de planejamento, onde o foco não é realizar mais a triagem de variáveis. Realizaremos teste de curvatura e \"caminharemos\" na superfície de resposta de forma a otimizar o planejamento.\n"
      ],
      "metadata": {
        "id": "JyCYg5pvuQRg"
      }
    }
  ]
}